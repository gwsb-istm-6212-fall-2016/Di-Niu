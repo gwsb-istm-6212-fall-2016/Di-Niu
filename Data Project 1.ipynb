{
 "cells": [
  {
   "cell_type": "markdown",
   "metadata": {
    "collapsed": false
   },
   "source": [
    "# Problem 1 - Word counts"
   ]
  },
  {
   "cell_type": "markdown",
   "metadata": {},
   "source": [
    "# Part A. Characters in Little Women"
   ]
  },
  {
   "cell_type": "code",
   "execution_count": 75,
   "metadata": {
    "collapsed": false
   },
   "outputs": [
    {
     "name": "stdout",
     "output_type": "stream",
     "text": [
      "--2016-09-23 00:16:55--  https://raw.githubusercontent.com/gwsb-istm-6212-fall-2016/syllabus-and-schedule/master/projects/project-01/women.txt\n",
      "Resolving raw.githubusercontent.com (raw.githubusercontent.com)... 151.101.32.133\n",
      "Connecting to raw.githubusercontent.com (raw.githubusercontent.com)|151.101.32.133|:443... connected.\n",
      "HTTP request sent, awaiting response... 200 OK\n",
      "Length: 1053440 (1.0M) [text/plain]\n",
      "Saving to: ‘women.txt.1’\n",
      "\n",
      "women.txt.1         100%[===================>]   1.00M  --.-KB/s    in 0.1s    \n",
      "\n",
      "2016-09-23 00:16:55 (8.65 MB/s) - ‘women.txt.1’ saved [1053440/1053440]\n",
      "\n"
     ]
    }
   ],
   "source": [
    "#download the text: Little Women\n",
    "!wget https://raw.githubusercontent.com/gwsb-istm-6212-fall-2016/syllabus-and-schedule/master/projects/project-01/women.txt"
   ]
  },
  {
   "cell_type": "code",
   "execution_count": 76,
   "metadata": {
    "collapsed": false
   },
   "outputs": [
    {
     "name": "stdout",
     "output_type": "stream",
     "text": [
      "1543\n",
      "465\n",
      "685\n",
      "645\n"
     ]
    }
   ],
   "source": [
    "#How many times are each of the following characters mentioned by name: Jo, Beth, Meg, Amy\n",
    "!grep -oE Jo women.txt | wc -l\n",
    "!grep -oE Beth women.txt | wc -l\n",
    "!grep -oE Meg women.txt | wc -l\n",
    "!grep -oE Amy women.txt | wc -l"
   ]
  },
  {
   "cell_type": "markdown",
   "metadata": {},
   "source": [
    "# Part B. Juliet and Romeo in Romeo and Juliet"
   ]
  },
  {
   "cell_type": "code",
   "execution_count": 3,
   "metadata": {
    "collapsed": false
   },
   "outputs": [
    {
     "name": "stdout",
     "output_type": "stream",
     "text": [
      "--2016-09-22 18:42:52--  https://raw.githubusercontent.com/gwsb-istm-6212-fall-2016/syllabus-and-schedule/master/projects/project-01/romeo.txt\n",
      "Resolving raw.githubusercontent.com (raw.githubusercontent.com)... 151.101.32.133\n",
      "Connecting to raw.githubusercontent.com (raw.githubusercontent.com)|151.101.32.133|:443... connected.\n",
      "HTTP request sent, awaiting response... 200 OK\n",
      "Length: 178983 (175K) [text/plain]\n",
      "Saving to: ‘romeo.txt’\n",
      "\n",
      "romeo.txt           100%[===================>] 174.79K  --.-KB/s    in 0.03s   \n",
      "\n",
      "2016-09-22 18:42:52 (6.16 MB/s) - ‘romeo.txt’ saved [178983/178983]\n",
      "\n"
     ]
    }
   ],
   "source": [
    "#Download text: Juliet and Romeo in Romeo and Juliet\n",
    "!wget https://raw.githubusercontent.com/gwsb-istm-6212-fall-2016/syllabus-and-schedule/master/projects/project-01/romeo.txt"
   ]
  },
  {
   "cell_type": "code",
   "execution_count": 4,
   "metadata": {
    "collapsed": false
   },
   "outputs": [
    {
     "name": "stdout",
     "output_type": "stream",
     "text": [
      "163\n",
      "117\n"
     ]
    }
   ],
   "source": [
    "#How many times do each of the characters Juliet and Romeo have speaking lines\n",
    "!grep -oE 'Rom. ' romeo.txt | wc -w\n",
    "!grep -oE 'Jul. ' romeo.txt | wc -w"
   ]
  },
  {
   "cell_type": "markdown",
   "metadata": {},
   "source": [
    "# Problem 2 -Capital Bikeshare"
   ]
  },
  {
   "cell_type": "code",
   "execution_count": 5,
   "metadata": {
    "collapsed": false
   },
   "outputs": [
    {
     "name": "stdout",
     "output_type": "stream",
     "text": [
      "--2016-09-22 18:42:55--  https://raw.githubusercontent.com/gwsb-istm-6212-fall-2016/syllabus-and-schedule/master/projects/project-01/2016q1.csv.zip\n",
      "Resolving raw.githubusercontent.com (raw.githubusercontent.com)... 151.101.32.133\n",
      "Connecting to raw.githubusercontent.com (raw.githubusercontent.com)|151.101.32.133|:443... connected.\n",
      "HTTP request sent, awaiting response... 200 OK\n",
      "Length: 10643003 (10M) [application/octet-stream]\n",
      "Saving to: ‘2016q1.csv.zip’\n",
      "\n",
      "2016q1.csv.zip      100%[===================>]  10.15M  21.4MB/s    in 0.5s    \n",
      "\n",
      "2016-09-22 18:42:55 (21.4 MB/s) - ‘2016q1.csv.zip’ saved [10643003/10643003]\n",
      "\n"
     ]
    }
   ],
   "source": [
    "#Problem 2 - Capital Bikeshare \n",
    "!wget https://raw.githubusercontent.com/gwsb-istm-6212-fall-2016/syllabus-and-schedule/master/projects/project-01/2016q1.csv.zip"
   ]
  },
  {
   "cell_type": "code",
   "execution_count": 6,
   "metadata": {
    "collapsed": false
   },
   "outputs": [
    {
     "name": "stdout",
     "output_type": "stream",
     "text": [
      "Archive:  2016q1.csv.zip\n",
      "  inflating: 2016q1.csv              \n"
     ]
    }
   ],
   "source": [
    "!unzip 2016q1.csv.zip"
   ]
  },
  {
   "cell_type": "code",
   "execution_count": 7,
   "metadata": {
    "collapsed": false
   },
   "outputs": [
    {
     "name": "stdout",
     "output_type": "stream",
     "text": [
      "  1: Duration (ms)\r\n",
      "  2: Start date\r\n",
      "  3: End date\r\n",
      "  4: Start station number\r\n",
      "  5: Start station\r\n",
      "  6: End station number\r\n",
      "  7: End station\r\n",
      "  8: Bike number\r\n",
      "  9: Member Type\r\n"
     ]
    }
   ],
   "source": [
    "!csvcut -n 2016q1.csv"
   ]
  },
  {
   "cell_type": "markdown",
   "metadata": {},
   "source": [
    "# Part A\n",
    "Which 10 Capital Bikeshare stations were the most popular departing stations in Q1 2016? "
   ]
  },
  {
   "cell_type": "code",
   "execution_count": 1,
   "metadata": {
    "collapsed": false
   },
   "outputs": [
    {
     "name": "stdout",
     "output_type": "stream",
     "text": [
      "  13120 Columbus Circle / Union Station\r\n",
      "   9560 Massachusetts Ave & Dupont Circle NW\r\n",
      "   9388 Lincoln Memorial\r\n",
      "   8138 Jefferson Dr & 14th St SW\r\n",
      "   7479 Thomas Circle\r\n",
      "   7401 15th & P St NW\r\n",
      "   6568 14th & V St NW\r\n",
      "   6491 New Hampshire Ave & T St NW\r\n",
      "   5649 Eastern Market Metro / Pennsylvania Ave & 7th St SE\r\n",
      "   5514 17th & Corcoran St NW\r\n"
     ]
    }
   ],
   "source": [
    "!csvcut -c5 2016q1.csv | sort | uniq -c | sort -rn | head -10"
   ]
  },
  {
   "cell_type": "markdown",
   "metadata": {},
   "source": [
    "Which 10 were the most popular destination stations in Q1 2016?"
   ]
  },
  {
   "cell_type": "code",
   "execution_count": 11,
   "metadata": {
    "collapsed": false
   },
   "outputs": [
    {
     "name": "stdout",
     "output_type": "stream",
     "text": [
      "  13880 Columbus Circle / Union Station\r\n",
      "  11183 Massachusetts Ave & Dupont Circle NW\r\n",
      "   9419 Lincoln Memorial\r\n",
      "   8975 Jefferson Dr & 14th St SW\r\n",
      "   8092 15th & P St NW\r\n",
      "   7267 14th & V St NW\r\n",
      "   6997 Thomas Circle\r\n",
      "   6245 New Hampshire Ave & T St NW\r\n",
      "   5761 5th & K St NW\r\n",
      "   5651 17th & Corcoran St NW\r\n"
     ]
    }
   ],
   "source": [
    "!csvcut -c7 2016q1.csv | sort | uniq -c | sort -rn | head -10"
   ]
  },
  {
   "cell_type": "markdown",
   "metadata": {},
   "source": [
    "For the most popular departure station, which 10 bikes were used most in trips departing from there? "
   ]
  },
  {
   "cell_type": "code",
   "execution_count": 13,
   "metadata": {
    "collapsed": false
   },
   "outputs": [
    {
     "name": "stdout",
     "output_type": "stream",
     "text": [
      "     17 Columbus Circle / Union Station,W22227\r\n",
      "     16 Columbus Circle / Union Station,W21867\r\n",
      "     16 Columbus Circle / Union Station,W21641\r\n",
      "     16 Columbus Circle / Union Station,W21538\r\n",
      "     16 Columbus Circle / Union Station,W21239\r\n",
      "     16 Columbus Circle / Union Station,W20540\r\n",
      "     16 Columbus Circle / Union Station,W00714\r\n",
      "     15 Columbus Circle / Union Station,W22080\r\n",
      "     15 Columbus Circle / Union Station,W21450\r\n",
      "     15 Columbus Circle / Union Station,W21076\r\n",
      "sort: write failed: 'standard output': Broken pipe\r\n",
      "sort: write error\r\n"
     ]
    }
   ],
   "source": [
    "!csvcut -c5,8 2016q1.csv | sort | uniq -c | sort -rn | head -10"
   ]
  },
  {
   "cell_type": "markdown",
   "metadata": {},
   "source": [
    "Which 10 bikes were used most in trips ending at the most popular destination station?"
   ]
  },
  {
   "cell_type": "code",
   "execution_count": 14,
   "metadata": {
    "collapsed": false
   },
   "outputs": [
    {
     "name": "stdout",
     "output_type": "stream",
     "text": [
      "     17 Columbus Circle / Union Station,W22227\r\n",
      "     16 Columbus Circle / Union Station,W21867\r\n",
      "     16 Columbus Circle / Union Station,W21641\r\n",
      "     16 Columbus Circle / Union Station,W21538\r\n",
      "     16 Columbus Circle / Union Station,W21239\r\n",
      "     16 Columbus Circle / Union Station,W20540\r\n",
      "     16 Columbus Circle / Union Station,W00714\r\n",
      "     15 Columbus Circle / Union Station,W22080\r\n",
      "     15 Columbus Circle / Union Station,W21450\r\n",
      "     15 Columbus Circle / Union Station,W21076\r\n",
      "sort: write failed: 'standard output': Broken pipe\r\n",
      "sort: write error\r\n"
     ]
    }
   ],
   "source": [
    "!csvcut -c5,8 2016q1.csv | sort | uniq -c | sort -rn | head -10"
   ]
  },
  {
   "cell_type": "markdown",
   "metadata": {},
   "source": [
    "# Problem 3 - Filters"
   ]
  },
  {
   "cell_type": "markdown",
   "metadata": {},
   "source": [
    "Demonstrate a pipeline that performs a count of the top ten unique words in Little Women"
   ]
  },
  {
   "cell_type": "code",
   "execution_count": 39,
   "metadata": {
    "collapsed": false,
    "scrolled": true
   },
   "outputs": [
    {
     "name": "stdout",
     "output_type": "stream",
     "text": [
      "   8155 and\r\n",
      "   7689 the\r\n",
      "   5152 to\r\n",
      "   3523 of\r\n",
      "   3245 her\r\n",
      "   2774 it\r\n",
      "   2503 in\r\n",
      "   2447 you\r\n",
      "   2343 she\r\n",
      "   2233 for\r\n",
      "sort: write failed: 'standard output': Broken pipe\r\n",
      "sort: write error\r\n"
     ]
    }
   ],
   "source": [
    "!grep -oE '\\w{{2,}}' women.txt | grep -v '^[0-9]' | tr '[:upper:]' '[:lower:]' | sort | uniq -c | sort -rn | head -10"
   ]
  },
  {
   "cell_type": "markdown",
   "metadata": {},
   "source": [
    "Use two python filter: lower.py and split.py to count top ten unique words in Little Women"
   ]
  },
  {
   "cell_type": "code",
   "execution_count": 25,
   "metadata": {
    "collapsed": false
   },
   "outputs": [
    {
     "name": "stdout",
     "output_type": "stream",
     "text": [
      "   8155 and\r\n",
      "   7689 the\r\n",
      "   5152 to\r\n",
      "   3523 of\r\n",
      "   3245 her\r\n",
      "   2774 it\r\n",
      "   2503 in\r\n",
      "   2447 you\r\n",
      "   2343 she\r\n",
      "   2233 for\r\n",
      "sort: write failed: 'standard output': Broken pipe\r\n",
      "sort: write error\r\n"
     ]
    }
   ],
   "source": [
    "!grep -oE '\\w{{2,}}' women.txt | ./lower.py | ./split.py | sort | uniq -c | sort -rn | head -10"
   ]
  },
  {
   "cell_type": "code",
   "execution_count": 20,
   "metadata": {
    "collapsed": false
   },
   "outputs": [],
   "source": [
    "#give all users permissions to execute the python filters\n",
    "!chmod +x split.py"
   ]
  },
  {
   "cell_type": "code",
   "execution_count": 22,
   "metadata": {
    "collapsed": false
   },
   "outputs": [
    {
     "name": "stdout",
     "output_type": "stream",
     "text": [
      "The\r\n",
      "Project\r\n",
      "Gutenberg\r\n",
      "EBook\r\n",
      "of\r\n",
      "Little\r\n",
      "Women\r\n",
      "by\r\n",
      "Louisa\r\n",
      "May\r\n",
      "Alcott\r\n",
      "This\r\n",
      "eBook\r\n",
      "is\r\n",
      "for\r\n",
      "the\r\n",
      "use\r\n",
      "of\r\n",
      "anyone\r\n",
      "anywhere\r\n",
      "at\r\n",
      "no\r\n",
      "cost\r\n",
      "and\r\n",
      "with\r\n",
      "almost\r\n",
      "no\r\n",
      "restrictions\r\n",
      "whatsoever\r\n",
      "You\r\n",
      "may\r\n",
      "copy\r\n",
      "it\r\n",
      "give\r\n",
      "it\r\n",
      "away\r\n",
      "or\r\n",
      "re\r\n",
      "use\r\n",
      "it\r\n",
      "under\r\n",
      "the\r\n",
      "terms\r\n",
      "of\r\n",
      "the\r\n",
      "Project\r\n",
      "Gutenberg\r\n",
      "License\r\n",
      "included\r\n",
      "with\r\n",
      "this\r\n",
      "eBook\r\n",
      "or\r\n",
      "online\r\n",
      "at\r\n",
      "www\r\n",
      "gutenberg\r\n",
      "net\r\n",
      "Title\r\n",
      "Little\r\n",
      "Women\r\n"
     ]
    }
   ],
   "source": [
    "!head women.txt | ./split.py"
   ]
  },
  {
   "cell_type": "code",
   "execution_count": 23,
   "metadata": {
    "collapsed": true
   },
   "outputs": [],
   "source": [
    "#give all users permissions to execute the python filters\n",
    "!chmod +x lower.py"
   ]
  },
  {
   "cell_type": "code",
   "execution_count": 24,
   "metadata": {
    "collapsed": false,
    "scrolled": true
   },
   "outputs": [
    {
     "name": "stdout",
     "output_type": "stream",
     "text": [
      "﻿the project gutenberg ebook of little women, by louisa may alcott\r",
      "\r\n",
      "\r",
      "\r\n",
      "this ebook is for the use of anyone anywhere at no cost and with\r",
      "\r\n",
      "almost no restrictions whatsoever.  you may copy it, give it away or\r",
      "\r\n",
      "re-use it under the terms of the project gutenberg license included\r",
      "\r\n",
      "with this ebook or online at www.gutenberg.net\r",
      "\r\n",
      "\r",
      "\r\n",
      "\r",
      "\r\n",
      "title: little women\r",
      "\r\n",
      "\r",
      "\r\n"
     ]
    }
   ],
   "source": [
    "!head women.txt | ./lower.py"
   ]
  },
  {
   "cell_type": "markdown",
   "metadata": {
    "collapsed": false
   },
   "source": [
    "# Part B \n",
    "\n",
    "Write a Python filter that removes at least ten common words of English text"
   ]
  },
  {
   "cell_type": "code",
   "execution_count": 28,
   "metadata": {
    "collapsed": true
   },
   "outputs": [],
   "source": [
    "#give all users permissions to execute the python filters\n",
    "!chmod +x stopwords.py"
   ]
  },
  {
   "cell_type": "code",
   "execution_count": 29,
   "metadata": {
    "collapsed": false
   },
   "outputs": [
    {
     "name": "stdout",
     "output_type": "stream",
     "text": [
      "   4003 i\r\n",
      "   3245 her\r\n",
      "   2343 she\r\n",
      "   2233 for\r\n",
      "   2033 was\r\n",
      "   1978 as\r\n",
      "   1854 with\r\n",
      "   1680 t\r\n",
      "   1598 he\r\n",
      "   1495 s\r\n",
      "   1469 but\r\n",
      "   1362 jo\r\n",
      "   1135 so\r\n",
      "   1118 his\r\n",
      "   1067 at\r\n",
      "   1063 had\r\n",
      "   1014 be\r\n",
      "    976 on\r\n",
      "    942 not\r\n",
      "    916 if\r\n",
      "    881 all\r\n",
      "    843 my\r\n",
      "    827 said\r\n",
      "    782 him\r\n",
      "    755 me\r\n",
      "sort: write failed: 'standard output': Broken pipe\r\n",
      "sort: write error\r\n"
     ]
    }
   ],
   "source": [
    "#stop word filter to a word count pipeline and show the top 25 words in Little Women with stop words removed.\n",
    "!cat women.txt | ./lower.py | ./stopwords.py | sort | uniq -c | sort -rn | head -25"
   ]
  },
  {
   "cell_type": "markdown",
   "metadata": {},
   "source": [
    "# Extra Credit"
   ]
  },
  {
   "cell_type": "code",
   "execution_count": 30,
   "metadata": {
    "collapsed": false,
    "scrolled": true
   },
   "outputs": [
    {
     "name": "stdout",
     "output_type": "stream",
     "text": [
      "--2016-09-23 11:34:25--  https://raw.githubusercontent.com/gwsb-istm-6212-fall-2016/syllabus-and-schedule/master/projects/project-01/texts.zip\n",
      "Resolving raw.githubusercontent.com (raw.githubusercontent.com)... 151.101.32.133\n",
      "Connecting to raw.githubusercontent.com (raw.githubusercontent.com)|151.101.32.133|:443... connected.\n",
      "HTTP request sent, awaiting response... 200 OK\n",
      "Length: 12668137 (12M) [application/octet-stream]\n",
      "Saving to: ‘texts.zip’\n",
      "\n",
      "texts.zip           100%[===================>]  12.08M  13.4MB/s    in 0.9s    \n",
      "\n",
      "2016-09-23 11:34:26 (13.4 MB/s) - ‘texts.zip’ saved [12668137/12668137]\n",
      "\n"
     ]
    }
   ],
   "source": [
    "!wget https://raw.githubusercontent.com/gwsb-istm-6212-fall-2016/syllabus-and-schedule/master/projects/project-01/texts.zip"
   ]
  },
  {
   "cell_type": "code",
   "execution_count": 31,
   "metadata": {
    "collapsed": false
   },
   "outputs": [
    {
     "name": "stdout",
     "output_type": "stream",
     "text": [
      "Archive:  texts.zip\n",
      "  inflating: 10001.txt               \n",
      "  inflating: 10002.txt               \n",
      "  inflating: 10003.txt               \n",
      "  inflating: 10004.txt               \n",
      "  inflating: 10005.txt               \n",
      "  inflating: 10006.txt               \n",
      "  inflating: 10007.txt               \n",
      "  inflating: 10008.txt               \n",
      "  inflating: 10009.txt               \n",
      "  inflating: 10010.txt               \n",
      "  inflating: 10011.txt               \n",
      "  inflating: 10012.txt               \n",
      "  inflating: 10013.txt               \n",
      "  inflating: 10014.txt               \n",
      "  inflating: 10015.txt               \n",
      "  inflating: 10016.txt               \n",
      "  inflating: 10017.txt               \n",
      "  inflating: 10018.txt               \n",
      "  inflating: 10019.txt               \n",
      "  inflating: 10020.txt               \n",
      "  inflating: 10021.txt               \n",
      "  inflating: 10023.txt               \n",
      "  inflating: 10024.txt               \n",
      "  inflating: 10025.txt               \n",
      "  inflating: 10026.txt               \n",
      "  inflating: 10027.txt               \n",
      "  inflating: 10028.txt               \n",
      "  inflating: 10029.txt               \n",
      "  inflating: 10030.txt               \n",
      "  inflating: 10031.txt               \n",
      "  inflating: 10032.txt               \n",
      "  inflating: 10033.txt               \n",
      "  inflating: 10034.txt               \n",
      "  inflating: 10035.txt               \n",
      "  inflating: 10036.txt               \n",
      "  inflating: 10037.txt               \n",
      "  inflating: 10038.txt               \n",
      "  inflating: 10039.txt               \n",
      "  inflating: 10040.txt               \n",
      "  inflating: 10041.txt               \n",
      "  inflating: 10042.txt               \n",
      "  inflating: 10043.txt               \n",
      "  inflating: 10045.txt               \n",
      "  inflating: 10046.txt               \n",
      "  inflating: 10047.txt               \n",
      "  inflating: 10048.txt               \n",
      "  inflating: 10049.txt               \n",
      "  inflating: 10050.txt               \n",
      "  inflating: 10051.txt               \n",
      "  inflating: 10052.txt               \n",
      "  inflating: 10056.txt               \n",
      "  inflating: 10059.txt               \n",
      "  inflating: 10060.txt               \n",
      "  inflating: 10062.txt               \n",
      "  inflating: 12370.txt               \n",
      "  inflating: 12372.txt               \n",
      "  inflating: 12373.txt               \n",
      "  inflating: 12374.txt               \n",
      "  inflating: 12375.txt               \n",
      "  inflating: 12376.txt               \n",
      "  inflating: 12377.txt               \n",
      "  inflating: 12378.txt               \n",
      "  inflating: 12380.txt               \n",
      "  inflating: 12381.txt               \n",
      "  inflating: 12383.txt               \n",
      "  inflating: 12384.txt               \n",
      "  inflating: 12385.txt               \n",
      "  inflating: 12386.txt               \n",
      "  inflating: 1jcfs10.txt             \n",
      "  inflating: 2babb10.txt             \n",
      "  inflating: 3babb10.txt             \n",
      "  inflating: 50bab10.txt             \n",
      "  inflating: ajtl10.txt              \n",
      "  inflating: allyr10.txt             \n",
      "  inflating: alpsn10.txt             \n",
      "  inflating: balen10.txt             \n",
      "  inflating: baleng2.txt             \n",
      "  inflating: batlf10.txt             \n",
      "  inflating: bgopr10.txt             \n",
      "  inflating: brnte10.txt             \n",
      "  inflating: bstjg10.txt             \n",
      "  inflating: cambp10.txt             \n",
      "  inflating: canbe10.txt             \n",
      "  inflating: cantp10.txt             \n",
      "  inflating: cfrz10.txt              \n",
      "  inflating: crsnk10.txt             \n",
      "  inflating: esbio10.txt             \n",
      "  inflating: grybr10.txt             \n",
      "  inflating: mklmt10.txt             \n",
      "  inflating: morem10.txt             \n",
      "  inflating: mspcd10.txt             \n",
      "  inflating: penbr10.txt             \n",
      "  inflating: pgjr10.txt              \n",
      "  inflating: pntvw10.txt             \n",
      "  inflating: prcpg10.txt             \n",
      "  inflating: prhg10.txt              \n",
      "  inflating: prhsb10.txt             \n",
      "  inflating: rlsl110.txt             \n",
      "  inflating: rlsl210.txt             \n",
      "  inflating: rmlav10.txt             \n",
      "  inflating: sesli10.txt             \n",
      "  inflating: svyrd10.txt             \n",
      "  inflating: tecom10.txt             \n",
      "  inflating: utrkj10.txt             \n",
      "  inflating: vpasm10.txt             \n",
      "  inflating: wldsp10.txt             \n",
      "  inflating: wtrbs10.txt             \n",
      "  inflating: zncli10.txt             \n"
     ]
    }
   ],
   "source": [
    "!unzip texts.zip"
   ]
  },
  {
   "cell_type": "code",
   "execution_count": 37,
   "metadata": {
    "collapsed": false
   },
   "outputs": [
    {
     "name": "stdout",
     "output_type": "stream",
     "text": [
      "10001.txt  10019.txt  10038.txt  12370.txt    ajtl10.txt   mspcd10.txt\r\n",
      "10002.txt  10020.txt  10039.txt  12372.txt    allyr10.txt  penbr10.txt\r\n",
      "10003.txt  10021.txt  10040.txt  12373.txt    alpsn10.txt  pgjr10.txt\r\n",
      "10004.txt  10023.txt  10041.txt  12374.txt    balen10.txt  pntvw10.txt\r\n",
      "10005.txt  10024.txt  10042.txt  12375.txt    baleng2.txt  prcpg10.txt\r\n",
      "10006.txt  10025.txt  10043.txt  12376.txt    batlf10.txt  prhg10.txt\r\n",
      "10007.txt  10026.txt  10045.txt  12377.txt    bgopr10.txt  prhsb10.txt\r\n",
      "10008.txt  10027.txt  10046.txt  12378.txt    brnte10.txt  rlsl110.txt\r\n",
      "10009.txt  10028.txt  10047.txt  12380.txt    bstjg10.txt  rlsl210.txt\r\n",
      "10010.txt  10029.txt  10048.txt  12381.txt    cambp10.txt  rmlav10.txt\r\n",
      "10011.txt  10030.txt  10049.txt  12383.txt    canbe10.txt  sesli10.txt\r\n",
      "10012.txt  10031.txt  10050.txt  12384.txt    cantp10.txt  svyrd10.txt\r\n",
      "10013.txt  10032.txt  10051.txt  12385.txt    cfrz10.txt   tecom10.txt\r\n",
      "10014.txt  10033.txt  10052.txt  12386.txt    crsnk10.txt  utrkj10.txt\r\n",
      "10015.txt  10034.txt  10056.txt  1jcfs10.txt  esbio10.txt  vpasm10.txt\r\n",
      "10016.txt  10035.txt  10059.txt  2babb10.txt  grybr10.txt  wldsp10.txt\r\n",
      "10017.txt  10036.txt  10060.txt  3babb10.txt  mklmt10.txt  wtrbs10.txt\r\n",
      "10018.txt  10037.txt  10062.txt  50bab10.txt  morem10.txt  zncli10.txt\r\n"
     ]
    }
   ],
   "source": [
    "!ls *.txt "
   ]
  },
  {
   "cell_type": "code",
   "execution_count": 32,
   "metadata": {
    "collapsed": false
   },
   "outputs": [
    {
     "name": "stdout",
     "output_type": "stream",
     "text": [
      "rm: cannot remove 'romeo.txt': No such file or directory\r\n"
     ]
    }
   ],
   "source": [
    "!rm romeo.txt women.txt"
   ]
  },
  {
   "cell_type": "code",
   "execution_count": null,
   "metadata": {
    "collapsed": true
   },
   "outputs": [],
   "source": []
  },
  {
   "cell_type": "code",
   "execution_count": null,
   "metadata": {
    "collapsed": true
   },
   "outputs": [],
   "source": []
  }
 ],
 "metadata": {
  "kernelspec": {
   "display_name": "Python 3",
   "language": "python",
   "name": "python3"
  },
  "language_info": {
   "codemirror_mode": {
    "name": "ipython",
    "version": 3
   },
   "file_extension": ".py",
   "mimetype": "text/x-python",
   "name": "python",
   "nbconvert_exporter": "python",
   "pygments_lexer": "ipython3",
   "version": "3.5.2"
  }
 },
 "nbformat": 4,
 "nbformat_minor": 1
}
