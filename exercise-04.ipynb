{
 "cells": [
  {
   "cell_type": "markdown",
   "metadata": {},
   "source": [
    "# Exercise 04 - Due Friday, October 21 at 12pm\n",
    "\n",
    "*Objectives*: Gain experience loading a CSV dataset into a database model you define yourself and using SQL to explore its contents. Explore the data by writing and executing a number of SQL queries using common syntax and functions and describing your findings.\n",
    "\n",
    "*Grading criteria*: The tasks should all be completed, and questions should all be answered with SQL queries in the space provided, unless a text answer is requested. Results should be correct, according to the embedded tests. The notebook itself should be completely reproducible; from start to finish, another person should be able to use the same code to obtain the same results as yours.  Note that you will receive no more than partial credit if you do not add text/markdown cells explaining your thinking at each major step in each problem.\n",
    "\n",
    "*Deadline*: Friday, October 21, 12pm. Submit your notebook to Blackboard and push it to your GitHub repository.\n",
    "\n",
    "## Setup - obtain data and create database\n",
    "\n",
    "The US City Open Data Census has data on [restaurant inspections from all over the country](http://us-city.census.okfn.org/dataset/food-safety).  Let's take a look at data from Albuquerque.  *Note*: metadata and other details for this dataset are available at http://data.cabq.gov/business/foodinspections/.\n",
    "\n",
    "Fyi, to save you a step, I've converted this file into a clean CSV file by using the `dos2unix` command to change its line endings and to switch it to use commas instead of tabs using `csvformat -t inputfile.csv > outputfile.csv`.\n",
    "\n",
    "First we download the dataset:"
   ]
  },
  {
   "cell_type": "code",
   "execution_count": 1,
   "metadata": {
    "collapsed": false
   },
   "outputs": [
    {
     "name": "stdout",
     "output_type": "stream",
     "text": [
      "--2016-10-24 15:49:05--  https://raw.githubusercontent.com/gwsb-istm-6212-fall-2016/syllabus-and-schedule/master/exercises/abq-food-inspections-fy2010.csv\n",
      "Resolving raw.githubusercontent.com (raw.githubusercontent.com)... 151.101.32.133\n",
      "Connecting to raw.githubusercontent.com (raw.githubusercontent.com)|151.101.32.133|:443... connected.\n",
      "HTTP request sent, awaiting response... 200 OK\n",
      "Length: 5025226 (4.8M) [text/plain]\n",
      "Saving to: ‘abq-food-inspections-fy2010.csv’\n",
      "\n",
      "abq-food-inspection 100%[=====================>]   4.79M  --.-KB/s   in 0.08s  \n",
      "\n",
      "2016-10-24 15:49:05 (62.8 MB/s) - ‘abq-food-inspections-fy2010.csv’ saved [5025226/5025226]\n",
      "\n"
     ]
    }
   ],
   "source": [
    "!wget https://raw.githubusercontent.com/gwsb-istm-6212-fall-2016/syllabus-and-schedule/master/exercises/abq-food-inspections-fy2010.csv"
   ]
  },
  {
   "cell_type": "markdown",
   "metadata": {},
   "source": [
    "## Problem 1 - examine the data (35 points)\n",
    "\n",
    "Use `csvstat` and other tools as you see fit and observe its contents.  Review the metadata definitions linked to above.  Describe what you see:  What do all the columns mean?  Are there null values?  Which columns interest you the most?  Which columns present some complications or questions you would like to ask?"
   ]
  },
  {
   "cell_type": "markdown",
   "metadata": {},
   "source": [
    "Insert a combination of code and text/markdown cells here to review the data and describe what you find."
   ]
  },
  {
   "cell_type": "code",
   "execution_count": 2,
   "metadata": {
    "collapsed": false
   },
   "outputs": [
    {
     "name": "stdout",
     "output_type": "stream",
     "text": [
      "17557 abq-food-inspections-fy2010.csv\r\n"
     ]
    }
   ],
   "source": [
    "!wc -l abq-food-inspections-fy2010.csv"
   ]
  },
  {
   "cell_type": "markdown",
   "metadata": {},
   "source": [
    "Let's look at the column in the csv file"
   ]
  },
  {
   "cell_type": "code",
   "execution_count": 3,
   "metadata": {
    "collapsed": false
   },
   "outputs": [
    {
     "name": "stdout",
     "output_type": "stream",
     "text": [
      "  1: FACILITY_NAME\r\n",
      "  2: FACILITY_KEY\r\n",
      "  3: SITE_ADDRESS\r\n",
      "  4: CITY\r\n",
      "  5: STATE\r\n",
      "  6: ZIP\r\n",
      "  7: OWNER_KEY\r\n",
      "  8: OWNER_NAME\r\n",
      "  9: NATURE_OF_BUSINESS\r\n",
      " 10: STREET_NUMBER\r\n",
      " 11: STREET_NAME\r\n",
      " 12: STREET_TYPE\r\n",
      " 13: POST_DIRECTIONAL\r\n",
      " 14: PHONE\r\n",
      " 15: PROGRAM_CATEGORY\r\n",
      " 16: PROGRAM_CATEGORY_DESCRIPTION\r\n",
      " 17: INSPECTION_DATE\r\n",
      " 18: INSPECTION_TYPE\r\n",
      " 19: INSPECTION_DESC\r\n",
      " 20: SERIAL_NUM\r\n",
      " 21: ACTION_CODE\r\n",
      " 22: ACTION_DESC\r\n",
      " 23: RESULT_CODE\r\n",
      " 24: RESULT_DESC\r\n",
      " 25: VIOLATION_CODE\r\n",
      " 26: VIOLATION_DESC\r\n",
      " 27: INSPECTION_MEMO\r\n"
     ]
    }
   ],
   "source": [
    "!csvcut -n abq-food-inspections-fy2010.csv"
   ]
  },
  {
   "cell_type": "markdown",
   "metadata": {},
   "source": [
    "### What do all the columns mean?\n",
    "1: FACILITY_NAME: Name of the facility where the inspection occurred\n",
    "\n",
    "2: FACILITY_KEY: The unique key of the facility where the inspection occurred\n",
    "\n",
    "3: SITE_ADDRESS: Street address of the facility where the inspection occurred\n",
    "\n",
    "4: CITY: City of the facility where the inspection occurred\n",
    "\n",
    "5: STATE: State of the facility where the inspection occurred\n",
    "\n",
    "6: ZIP: Zip of the facility where the inspection occurred\n",
    "\n",
    "7: OWNER_KEY: The unique key of the Owner of the facility where the inspection occurred at the time of \n",
    "the inspection\n",
    "\n",
    "8: OWNER_NAME: Name of the Owner of the facility where the inspection occurred at the time of the inspection\n",
    "\n",
    "9: NATURE_OF_BUSINESS: The type of business\n",
    "\n",
    "10: STREET_NUMBER: Street number of the facility where the inspection occurred\n",
    "\n",
    "11: STREET_NAME: Street name of the facility where the inspection occurred\n",
    "\n",
    "12: STREET_TYPE: Street type of the facility where the inspection occurred\n",
    "\n",
    "13: POST_DIRECTIONAL: Postal direction of the facility where the inspection occurred\n",
    "\n",
    "14: PHONE: Phone number of the facility where the inspection occurred\n",
    "\n",
    "15: PROGRAM_CATEGORY: Id that indicates the type of facility permit the inspection was performed\n",
    "\n",
    "16: PROGRAM_CATEGORY_DESCRIPTION: Descript of the id that indicates the type of facility\n",
    "\n",
    "17: INSPECTION_DATE: Date the inspection occurred\n",
    "\n",
    "18: INSPECTION_TYPE: Code for type of inspection\n",
    "\n",
    "19: INSPECTION_DESC: Description of the inspection\n",
    "\n",
    "20: SERIAL_NUM: Unique ID for the inspection daily activity\n",
    "\n",
    "21: ACTION_CODE: Code of the action taken\n",
    "\n",
    "22: ACTION_DESC: Description of the action taken\n",
    "\n",
    "23: RESULT_CODE: Code of the result of the inspection\n",
    "\n",
    "24: RESULT_DESC: Description of the result of the inspection\n",
    "\n",
    "25: VIOLATION_CODE: The code for the violation\n",
    "\n",
    "26: VIOLATION_DESC: Description of the violation that was found\n",
    "\n",
    "27: INSPECTION_MEMO: Notes from the inspection made by the inspector\n",
    "\n"
   ]
  },
  {
   "cell_type": "markdown",
   "metadata": {},
   "source": [
    "### Are there null values?\n",
    "SITE_ADDRESS\n",
    "\n",
    "NATURE_OF_BUSINESS\n",
    "\n",
    "STREET_NUMBER\n",
    "\n",
    "STREET_NAME\n",
    "\n",
    "STREET_TYPE\n",
    "\n",
    "POST_DIRECTIONAL\n",
    "\n",
    "PHONE\n",
    "\n",
    "PROGRAM_CATEGORY_DESCRIPTION\n",
    "\n",
    "INSPECTION_TYPE\n",
    "\n",
    "VIOLATION_CODE\n",
    "\n",
    "VIOLATION_DESC\n",
    "\n",
    "INSPECTION_MEMO"
   ]
  },
  {
   "cell_type": "markdown",
   "metadata": {},
   "source": [
    "### Which columns interest you the most?\n",
    "1: FACILITY_NAME\n",
    "\n",
    "9: NATURE_OF_BUSINESS\n",
    "\n",
    "16: PROGRAM_CATEGORY_DESCRIPTION\n",
    " \n",
    "19: INSPECTION_DESC\n",
    "\n",
    "22: ACTION_DESC\n",
    "\n",
    "24: RESULT_DESC\n",
    " \n",
    "26: VIOLATION_DESC\n",
    " "
   ]
  },
  {
   "cell_type": "code",
   "execution_count": 4,
   "metadata": {
    "collapsed": false
   },
   "outputs": [
    {
     "name": "stdout",
     "output_type": "stream",
     "text": [
      "|--------------------------+--------------------+-------------------------------|\r\n",
      "|  FACILITY_NAME           | NATURE_OF_BUSINESS | PROGRAM_CATEGORY_DESCRIPTION  |\r\n",
      "|--------------------------+--------------------+-------------------------------|\r\n",
      "|  00BSAY IT WITH CAKE     | CAKE DECORATING    | Food Processor                |\r\n",
      "|  00BSAY IT WITH CAKE     | CAKE DECORATING    | Food Processor                |\r\n",
      "|  00BSAY IT WITH CAKE     | CAKE DECORATING    | Food Processor                |\r\n",
      "|  00BSAY IT WITH CAKE     | CAKE DECORATING    | Food Processor                |\r\n",
      "|  00BSAY IT WITH CAKE     | CAKE DECORATING    | Food Processor                |\r\n",
      "|  2000 VIETNAM RESTAURANT | RESTAURANT         | Food Service Establishment    |\r\n",
      "|  2000 VIETNAM RESTAURANT | RESTAURANT         | Food Service Establishment    |\r\n",
      "|  2000 VIETNAM RESTAURANT | RESTAURANT         | Food Service Establishment    |\r\n",
      "|  328 CHINESE CUISINE     |                    | Food Service Establishment    |\r\n",
      "|--------------------------+--------------------+-------------------------------|\r\n"
     ]
    }
   ],
   "source": [
    "!csvcut -c1,9,16 abq-food-inspections-fy2010.csv | head | csvlook"
   ]
  },
  {
   "cell_type": "code",
   "execution_count": 5,
   "metadata": {
    "collapsed": false
   },
   "outputs": [
    {
     "name": "stdout",
     "output_type": "stream",
     "text": [
      "|--------------------------+-------------------------+-------------+----------------+-----------------------------------|\r\n",
      "|  FACILITY_NAME           | INSPECTION_DESC         | ACTION_DESC | RESULT_DESC    | VIOLATION_DESC                    |\r\n",
      "|--------------------------+-------------------------+-------------+----------------+-----------------------------------|\r\n",
      "|  00BSAY IT WITH CAKE     | EMERGENCY RESPONSE      | NON-GRADED  | NOT APPLICABLE | Delivered Informational Brochure  |\r\n",
      "|  00BSAY IT WITH CAKE     | ROUTINE FOOD INSPECTION | APPROVED    | IN COMPLIANCE  | No Violations Found               |\r\n",
      "|  00BSAY IT WITH CAKE     | ROUTINE FOOD INSPECTION | APPROVED    | IN COMPLIANCE  | Additional Comments               |\r\n",
      "|  00BSAY IT WITH CAKE     | ROUTINE FOOD INSPECTION | APPROVED    | IN COMPLIANCE  | No Violations Found               |\r\n",
      "|  00BSAY IT WITH CAKE     | ROUTINE FOOD INSPECTION | APPROVED    | IN COMPLIANCE  | Additional Comments               |\r\n",
      "|  2000 VIETNAM RESTAURANT | ROUTINE FOOD INSPECTION | APPROVED    | IN COMPLIANCE  | Food contact surfaces             |\r\n",
      "|  2000 VIETNAM RESTAURANT | ROUTINE FOOD INSPECTION | APPROVED    | IN COMPLIANCE  | Non-Food contact surfaces         |\r\n",
      "|  2000 VIETNAM RESTAURANT | ROUTINE FOOD INSPECTION | APPROVED    | IN COMPLIANCE  | Additional Comments               |\r\n",
      "|  328 CHINESE CUISINE     | EMERGENCY RESPONSE      | NON-GRADED  | NOT APPLICABLE | Delivered Informational Brochure  |\r\n",
      "|--------------------------+-------------------------+-------------+----------------+-----------------------------------|\r\n"
     ]
    }
   ],
   "source": [
    "!csvcut -c1,19,22,24,26 abq-food-inspections-fy2010.csv | head | csvlook"
   ]
  },
  {
   "cell_type": "code",
   "execution_count": 6,
   "metadata": {
    "collapsed": false
   },
   "outputs": [
    {
     "name": "stdout",
     "output_type": "stream",
     "text": [
      "  1. FACILITY_NAME\n",
      "\t<class 'str'>\n",
      "\tNulls: False\n",
      "\tUnique values: 2615\n",
      "\t5 most frequent values:\n",
      "\t\tSMITHS FOOD AND DRUG CENTERS INC:\t154\n",
      "\t\tISOTOPES PARK - OVATIONS:\t93\n",
      "\t\tPER EHSII CECELIA GARCIA OOB LA REYNA DEL SUR:\t85\n",
      "\t\tECHO INC:\t68\n",
      "\t\tISLETA AMPHITHEATER:\t68\n",
      "\tMax length: 77\n",
      "  2. FACILITY_KEY\n",
      "\t<class 'int'>\n",
      "\tNulls: False\n",
      "\tMin: 13\n",
      "\tMax: 101482\n",
      "\tSum: 820405773\n",
      "\tMean: 46730.79135338346\n",
      "\tMedian: 50866.0\n",
      "\tStandard Deviation: 32659.794578837962\n",
      "\tUnique values: 2835\n",
      "\t5 most frequent values:\n",
      "\t\t46323:\t93\n",
      "\t\t65863:\t85\n",
      "\t\t80949:\t68\n",
      "\t\t32817:\t68\n",
      "\t\t91825:\t66\n",
      "  3. SITE_ADDRESS\n",
      "\t<class 'str'>\n",
      "\tNulls: True\n",
      "\tUnique values: 2456\n",
      "\t5 most frequent values:\n",
      "\t\t1601 AVENIDA CESAR CHAVEZ SE:\t94\n",
      "\t\t644 OLD COORS BLVD SW:\t85\n",
      "\t\t8601 CENTRAL AV NE:\t77\n",
      "\t\t2200 SUNPORT BLVD SE:\t75\n",
      "\t\t5210 CENTRAL AV SE:\t73\n",
      "\tMax length: 35\n",
      "  4. CITY\n",
      "\t<class 'str'>\n",
      "\tNulls: False\n",
      "\tValues: ALBUQUERQUE\n",
      "  5. STATE\n",
      "\t<class 'str'>\n",
      "\tNulls: False\n",
      "\tValues: NM, 87\n",
      "  6. ZIP\n",
      "\t<class 'str'>\n",
      "\tNulls: False\n",
      "\tUnique values: 48\n",
      "\t5 most frequent values:\n",
      "\t\t87110:\t1996\n",
      "\t\t87108:\t1976\n",
      "\t\t87102:\t1601\n",
      "\t\t87106:\t1568\n",
      "\t\t87109:\t1552\n",
      "\tMax length: 10\n",
      "  7. OWNER_KEY\n",
      "\t<class 'int'>\n",
      "\tNulls: False\n",
      "\tMin: 11\n",
      "\tMax: 87302\n",
      "\tSum: 644760848\n",
      "\tMean: 36725.953975848715\n",
      "\tMedian: 33747.0\n",
      "\tStandard Deviation: 29428.207216739836\n",
      "\tUnique values: 1892\n",
      "\t5 most frequent values:\n",
      "\t\t1838:\t792\n",
      "\t\t3537:\t321\n",
      "\t\t1272:\t228\n",
      "\t\t36280:\t156\n",
      "\t\t80274:\t155\n",
      "  8. OWNER_NAME\n",
      "\t<class 'str'>\n",
      "\tNulls: False\n",
      "\tUnique values: 1852\n",
      "\t5 most frequent values:\n",
      "\t\tAPS:\t792\n",
      "\t\tSMITHS FOOD AND DRUG CENTERS INC:\t321\n",
      "\t\tCIRCLE K STORES INC:\t277\n",
      "\t\tALBERTSONS:\t228\n",
      "\t\tWAL MART STORES EAST  LP:\t156\n",
      "\tMax length: 82\n",
      "  9. NATURE_OF_BUSINESS\n",
      "\t<class 'str'>\n",
      "\tNulls: True\n",
      "\tUnique values: 594\n",
      "\t5 most frequent values:\n",
      "\t\tRESTAURANT:\t4994\n",
      "\t\tFOOD SERVICE:\t691\n",
      "\t\tGROCERY:\t618\n",
      "\t\tBAR/RESTAURANT:\t508\n",
      "\t\tAPS SCHOOL FOOD SERVICE:\t470\n",
      "\tMax length: 25\n",
      " 10. STREET_NUMBER\n",
      "\t<class 'str'>\n",
      "\tNulls: True\n",
      "\tUnique values: 1349\n",
      "\t5 most frequent values:\n",
      "\t\t6600:\t216\n",
      "\t\t10000:\t152\n",
      "\t\t300:\t143\n",
      "\t\t2200:\t127\n",
      "\t\t8100:\t125\n",
      "\tMax length: 7\n",
      " 11. STREET_NAME\n",
      "\t<class 'str'>\n",
      "\tNulls: True\n",
      "\tUnique values: 404\n",
      "\t5 most frequent values:\n",
      "\t\tCENTRAL:\t1898\n",
      "\t\tMENAUL:\t928\n",
      "\t\tCOORS:\t918\n",
      "\t\tMONTGOMERY:\t727\n",
      "\t\tSAN MATEO:\t707\n",
      "\tMax length: 24\n",
      " 12. STREET_TYPE\n",
      "\t<class 'str'>\n",
      "\tNulls: True\n",
      "\tUnique values: 13\n",
      "\t5 most frequent values:\n",
      "\t\tBLVD:\t7636\n",
      "\t\tAV:\t3005\n",
      "\t\tST:\t2065\n",
      "\t\tRD:\t1900\n",
      "\t\tDR:\t995\n",
      "\tMax length: 4\n",
      " 13. POST_DIRECTIONAL\n",
      "\t<class 'str'>\n",
      "\tNulls: True\n",
      "\tValues: NW, N, SE, NE, SW\n",
      " 14. PHONE\n",
      "\t<class 'int'>\n",
      "\tNulls: True\n",
      "\tMin: 2471094\n",
      "\tMax: 505345566137310\n",
      "\tSum: 2608539289633190\n",
      "\tMean: 161719732773.29138\n",
      "\tMedian: 5053454060.0\n",
      "\tStandard Deviation: 8895791545525.992\n",
      "\tUnique values: 2279\n",
      "\t5 most frequent values:\n",
      "\t\t9153321301:\t101\n",
      "\t\t3037929467:\t100\n",
      "\t\t5052224033:\t94\n",
      "\t\t3109680646:\t85\n",
      "\t\t5052426777:\t68\n",
      " 15. PROGRAM_CATEGORY\n",
      "\t<class 'str'>\n",
      "\tNulls: False\n",
      "\tUnique values: 25\n",
      "\t5 most frequent values:\n",
      "\t\t0406:\t7969\n",
      "\t\t0601:\t1159\n",
      "\t\t0607:\t894\n",
      "\t\t0606:\t865\n",
      "\t\t0501:\t832\n",
      "\tMax length: 4\n",
      " 16. PROGRAM_CATEGORY_DESCRIPTION\n",
      "\t<class 'str'>\n",
      "\tNulls: True\n",
      "\tUnique values: 24\n",
      "\t5 most frequent values:\n",
      "\t\tFood Service Establishment:\t7969\n",
      "\t\tRetail -Grocery:\t1159\n",
      "\t\tRetail - Self Service & Prepackage Foods:\t894\n",
      "\t\tRetail - Prepackage Only:\t865\n",
      "\t\tSchool:\t832\n",
      "\tMax length: 40\n",
      " 17. INSPECTION_DATE\n",
      "\t<class 'datetime.date'>\n",
      "\tNulls: False\n",
      "\tMin: 2009-07-01\n",
      "\tMax: 2010-06-30\n",
      "\tUnique values: 258\n",
      "\t5 most frequent values:\n",
      "\t\t2009-12-16:\t184\n",
      "\t\t2009-09-10:\t159\n",
      "\t\t2009-09-25:\t148\n",
      "\t\t2009-11-04:\t133\n",
      "\t\t2009-10-01:\t131\n",
      " 18. INSPECTION_TYPE\n",
      "\t<class 'NoneType'>\n",
      "\tNulls: True\n",
      "\tValues: \n",
      " 19. INSPECTION_DESC\n",
      "\t<class 'str'>\n",
      "\tNulls: False\n",
      "\tUnique values: 15\n",
      "\t5 most frequent values:\n",
      "\t\tROUTINE FOOD INSPECTION:\t12439\n",
      "\t\tEMERGENCY RESPONSE:\t1987\n",
      "\t\tNew Business Inspection:\t1005\n",
      "\t\tPRE-OPENING FOOD INSPECTION:\t743\n",
      "\t\tADDITIONAL SERVICE PROVIDED:\t439\n",
      "\tMax length: 32\n",
      " 20. SERIAL_NUM\n",
      "\t<class 'str'>\n",
      "\tNulls: False\n",
      "\tUnique values: 9046\n",
      "\t5 most frequent values:\n",
      "\t\tDA0045731:\t61\n",
      "\t\tDA0059230:\t61\n",
      "\t\tDA0047290:\t61\n",
      "\t\tDA0047720:\t61\n",
      "\t\tDA0045676:\t61\n",
      "\tMax length: 9\n",
      " 21. ACTION_CODE\n",
      "\t<class 'str'>\n",
      "\tNulls: False\n",
      "\tUnique values: 8\n",
      "\t5 most frequent values:\n",
      "\t\t11:\t14080\n",
      "\t\t00:\t2800\n",
      "\t\t09:\t382\n",
      "\t\t06:\t264\n",
      "\t\t10:\t21\n",
      "\tMax length: 2\n",
      " 22. ACTION_DESC\n",
      "\t<class 'str'>\n",
      "\tNulls: False\n",
      "\tUnique values: 8\n",
      "\t5 most frequent values:\n",
      "\t\tAPPROVED:\t14080\n",
      "\t\tNON-GRADED:\t2800\n",
      "\t\tANNUAL STICKER ISSUED:\t382\n",
      "\t\tUNSATISFACTORY:\t264\n",
      "\t\tANNUAL STICKER NOT ISSUED:\t21\n",
      "\tMax length: 34\n",
      " 23. RESULT_CODE\n",
      "\t<class 'str'>\n",
      "\tNulls: False\n",
      "\tUnique values: 19\n",
      "\t5 most frequent values:\n",
      "\t\t03:\t14389\n",
      "\t\t00:\t2416\n",
      "\t\t05:\t214\n",
      "\t\t22:\t142\n",
      "\t\t18:\t104\n",
      "\tMax length: 2\n",
      " 24. RESULT_DESC\n",
      "\t<class 'str'>\n",
      "\tNulls: False\n",
      "\tUnique values: 19\n",
      "\t5 most frequent values:\n",
      "\t\tIN COMPLIANCE:\t14389\n",
      "\t\tNOT APPLICABLE:\t2416\n",
      "\t\tDOWNGRADE:\t214\n",
      "\t\tOUT OF BUSINESS:\t142\n",
      "\t\tTRAINING RECEIVED:\t104\n",
      "\tMax length: 37\n",
      " 25. VIOLATION_CODE\n",
      "\t<class 'str'>\n",
      "\tNulls: True\n",
      "\tUnique values: 128\n",
      "\t5 most frequent values:\n",
      "\t\t55:\t6348\n",
      "\t\t00:\t3429\n",
      "\t\t68:\t1658\n",
      "\t\t42:\t487\n",
      "\t\t35:\t441\n",
      "\tMax length: 10\n",
      " 26. VIOLATION_DESC\n",
      "\t<class 'str'>\n",
      "\tNulls: True\n",
      "\tUnique values: 70\n",
      "\t5 most frequent values:\n",
      "\t\tAdditional Comments:\t6353\n",
      "\t\tNo Violations Found:\t3434\n",
      "\t\tDelivered Informational Brochure:\t1657\n",
      "\t\tPlumbing: Improperly installed/maintained/supplied:\t492\n",
      "\t\tNon-Food contact surfaces:\t446\n",
      "\tMax length: 50\n",
      " 27. INSPECTION_MEMO\n",
      "\t<class 'NoneType'>\n",
      "\tNulls: True\n",
      "\tValues: \n",
      "\n",
      "Row count: 17556\n"
     ]
    }
   ],
   "source": [
    "!csvstat abq-food-inspections-fy2010.csv"
   ]
  },
  {
   "cell_type": "markdown",
   "metadata": {},
   "source": [
    "### Which columns present some complications or questions you would like to ask?\n",
    "\n",
    "I don't see any columns that present complications. \n",
    "\n",
    "The questions that I want to ask are:\n",
    "1. Which business type is the most common type to have inspection? and what is the result of it?\n",
    "2. Which month has the highest number of inspection occured?"
   ]
  },
  {
   "cell_type": "markdown",
   "metadata": {},
   "source": [
    "## Problem 2 - define a database model and load the data (35 points)\n",
    "\n",
    "Based on what you found above, create and connect to a new database, define a database table in it, and load this dataset into it.  You may use either of the methods for this step you have seen in earlier class notebooks.  You may choose to eliminate variables/columns if they are not relevant or interesting to you - explain your reasoning if you do.  Either way, you should load a majority of the columns present in the source dataset into the database and all of its rows.\n",
    "\n",
    "Once your data has loaded successfully, run a `COUNT(*)` query to verify that all the data has loaded correctly.\n",
    "\n",
    "Insert a combination of code and text/markdown cells here to connect to your database, define your table, load its data, and verify the loaded records."
   ]
  },
  {
   "cell_type": "code",
   "execution_count": 7,
   "metadata": {
    "collapsed": false
   },
   "outputs": [
    {
     "name": "stderr",
     "output_type": "stream",
     "text": [
      "/opt/conda/lib/python3.5/site-packages/IPython/config.py:13: ShimWarning: The `IPython.config` package has been deprecated. You should import from traitlets.config instead.\n",
      "  \"You should import from traitlets.config instead.\", ShimWarning)\n",
      "/opt/conda/lib/python3.5/site-packages/IPython/utils/traitlets.py:5: UserWarning: IPython.utils.traitlets has moved to a top-level traitlets package.\n",
      "  warn(\"IPython.utils.traitlets has moved to a top-level traitlets package.\")\n"
     ]
    }
   ],
   "source": [
    "%load_ext sql"
   ]
  },
  {
   "cell_type": "code",
   "execution_count": 8,
   "metadata": {
    "collapsed": false
   },
   "outputs": [
    {
     "name": "stdout",
     "output_type": "stream",
     "text": [
      "[sudo] password for jovyan: Restarting PostgreSQL 9.5 database server: main.\n"
     ]
    }
   ],
   "source": [
    "!echo 'redspot' | sudo -S service postgresql restart"
   ]
  },
  {
   "cell_type": "code",
   "execution_count": 9,
   "metadata": {
    "collapsed": true
   },
   "outputs": [],
   "source": [
    "!createdb -U dbuser food"
   ]
  },
  {
   "cell_type": "code",
   "execution_count": 10,
   "metadata": {
    "collapsed": false
   },
   "outputs": [
    {
     "data": {
      "text/plain": [
       "'Connected: dbuser@food'"
      ]
     },
     "execution_count": 10,
     "metadata": {},
     "output_type": "execute_result"
    }
   ],
   "source": [
    "%sql postgresql://dbuser@localhost:5432/food"
   ]
  },
  {
   "cell_type": "code",
   "execution_count": 11,
   "metadata": {
    "collapsed": false
   },
   "outputs": [
    {
     "name": "stdout",
     "output_type": "stream",
     "text": [
      "  1. WINNING COFFEE CO\n",
      "\t<class 'str'>\n",
      "\tNulls: False\n",
      "\tUnique values: 2484\n",
      "\t5 most frequent values:\n",
      "\t\tSMITHS FOOD AND DRUG CENTERS INC:\t92\n",
      "\t\tISOTOPES PARK - OVATIONS:\t51\n",
      "\t\tPER EHSII CECELIA GARCIA OOB LA REYNA DEL SUR:\t46\n",
      "\t\tDIONS PIZZA:\t42\n",
      "\t\tOOB CALIFORNIA DEL NORTE ICE CREAM LLC:\t42\n",
      "\tMax length: 77\n",
      "  2. 44747\n",
      "\t<class 'int'>\n",
      "\tNulls: False\n",
      "\tMin: 13\n",
      "\tMax: 101482\n",
      "\tSum: 467876247\n",
      "\tMean: 46792.30393039304\n",
      "\tMedian: 51074\n",
      "\tStandard Deviation: 32677.8172067117\n",
      "\tUnique values: 2680\n",
      "\t5 most frequent values:\n",
      "\t\t46323:\t51\n",
      "\t\t65863:\t46\n",
      "\t\t64527:\t42\n",
      "\t\t90924:\t39\n",
      "\t\t32817:\t38\n",
      "  3. 111 HARVARD AV SE\n",
      "\t<class 'str'>\n",
      "\tNulls: True\n",
      "\tUnique values: 2352\n",
      "\t5 most frequent values:\n",
      "\t\t1601 AVENIDA CESAR CHAVEZ SE:\t52\n",
      "\t\t644 OLD COORS BLVD SW:\t46\n",
      "\t\t2200 SUNPORT BLVD SE:\t45\n",
      "\t\t1415 4TH ST SW:\t42\n",
      "\t\t5210 CENTRAL AV SE:\t41\n",
      "\tMax length: 35\n",
      "  4. ALBUQUERQUE\n",
      "\t<class 'str'>\n",
      "\tNulls: False\n",
      "\tValues: ALBUQUERQUE\n",
      "  5. NM\n",
      "\t<class 'str'>\n",
      "\tNulls: False\n",
      "\tValues: NM, 87\n",
      "  6. 87106\n",
      "\t<class 'str'>\n",
      "\tNulls: False\n",
      "\tUnique values: 48\n",
      "\t5 most frequent values:\n",
      "\t\t87110:\t1117\n",
      "\t\t87108:\t1098\n",
      "\t\t87102:\t940\n",
      "\t\t87106:\t889\n",
      "\t\t87109:\t875\n",
      "\tMax length: 10\n",
      "  7. 42249\n",
      "\t<class 'int'>\n",
      "\tNulls: False\n",
      "\tMin: 11\n",
      "\tMax: 85774\n",
      "\tSum: 367988637\n",
      "\tMean: 36802.54395439544\n",
      "\tMedian: 33762\n",
      "\tStandard Deviation: 29417.55076584628\n",
      "\tUnique values: 1788\n",
      "\t5 most frequent values:\n",
      "\t\t1838:\t472\n",
      "\t\t3537:\t189\n",
      "\t\t1272:\t106\n",
      "\t\t36280:\t93\n",
      "\t\t80274:\t87\n",
      "  8. WINNING COFFEE CO\n",
      "\t<class 'str'>\n",
      "\tNulls: False\n",
      "\tUnique values: 1750\n",
      "\t5 most frequent values:\n",
      "\t\tAPS:\t472\n",
      "\t\tSMITHS FOOD AND DRUG CENTERS INC:\t189\n",
      "\t\tCIRCLE K STORES INC:\t146\n",
      "\t\tALBERTSONS:\t106\n",
      "\t\tWAL MART STORES EAST  LP:\t93\n",
      "\tMax length: 82\n",
      "  9. RETAIL COFFEE/FOOD\n",
      "\t<class 'str'>\n",
      "\tNulls: True\n",
      "\tUnique values: 568\n",
      "\t5 most frequent values:\n",
      "\t\tRESTAURANT:\t2826\n",
      "\t\tFOOD SERVICE:\t419\n",
      "\t\tGROCERY:\t346\n",
      "\t\tAPS SCHOOL FOOD SERVICE:\t274\n",
      "\t\tBAR/RESTAURANT:\t265\n",
      "\tMax length: 25\n",
      " 10. 111\n",
      "\t<class 'str'>\n",
      "\tNulls: True\n",
      "\tUnique values: 1311\n",
      "\t5 most frequent values:\n",
      "\t\t6600:\t109\n",
      "\t\t10000:\t84\n",
      "\t\t300:\t74\n",
      "\t\t2200:\t72\n",
      "\t\t8100:\t69\n",
      "\tMax length: 7\n",
      " 11. HARVARD\n",
      "\t<class 'str'>\n",
      "\tNulls: True\n",
      "\tUnique values: 380\n",
      "\t5 most frequent values:\n",
      "\t\tCENTRAL:\t1062\n",
      "\t\tCOORS:\t517\n",
      "\t\tMENAUL:\t504\n",
      "\t\tSAN MATEO:\t399\n",
      "\t\tMONTGOMERY:\t391\n",
      "\tMax length: 24\n",
      " 12. AV\n",
      "\t<class 'str'>\n",
      "\tNulls: True\n",
      "\tUnique values: 13\n",
      "\t5 most frequent values:\n",
      "\t\tBLVD:\t4276\n",
      "\t\tAV:\t1732\n",
      "\t\tST:\t1217\n",
      "\t\tRD:\t1118\n",
      "\t\tDR:\t562\n",
      "\tMax length: 4\n",
      " 13. SE\n",
      "\t<class 'str'>\n",
      "\tNulls: True\n",
      "\tValues: SE, NE, N, SW, NW\n",
      " 14. 5052660000\n",
      "\t<class 'int'>\n",
      "\tNulls: True\n",
      "\tMin: 2471094\n",
      "\tMax: 505345566137310\n",
      "\tSum: 2067859725019594\n",
      "\tMean: 225674967261.7695\n",
      "\tMedian: 5053455551\n",
      "\tStandard Deviation: 10556025688271.275\n",
      "\tUnique values: 2171\n",
      "\t5 most frequent values:\n",
      "\t\t3037929467:\t58\n",
      "\t\t9153321301:\t53\n",
      "\t\t5052224033:\t52\n",
      "\t\t3109680646:\t46\n",
      "\t\t5053454900:\t44\n",
      " 15. 0406\n",
      "\t<class 'str'>\n",
      "\tNulls: False\n",
      "\tUnique values: 25\n",
      "\t5 most frequent values:\n",
      "\t\t0406:\t4541\n",
      "\t\t0601:\t692\n",
      "\t\t0607:\t507\n",
      "\t\t0408:\t494\n",
      "\t\t0606:\t488\n",
      "\tMax length: 4\n",
      " 16. Food Service Establishment\n",
      "\t<class 'str'>\n",
      "\tNulls: True\n",
      "\tUnique values: 24\n",
      "\t5 most frequent values:\n",
      "\t\tFood Service Establishment:\t4541\n",
      "\t\tRetail -Grocery:\t692\n",
      "\t\tRetail - Self Service & Prepackage Foods:\t507\n",
      "\t\tSchool:\t494\n",
      "\t\tRetail - Prepackage Only:\t488\n",
      "\tMax length: 40\n",
      " 17. 2010-03-24 00:00:00\n",
      "\t<class 'datetime.date'>\n",
      "\tNulls: False\n",
      "\tMin: 2009-07-01\n",
      "\tMax: 2010-06-30\n",
      "\tUnique values: 256\n",
      "\t5 most frequent values:\n",
      "\t\t2009-12-16:\t115\n",
      "\t\t2009-09-10:\t89\n",
      "\t\t2009-09-15:\t83\n",
      "\t\t2009-09-25:\t76\n",
      "\t\t2009-11-04:\t73\n",
      " 18. _unnamed\n",
      "\t<class 'NoneType'>\n",
      "\tNulls: True\n",
      "\tValues: \n",
      " 19. ROUTINE FOOD INSPECTION\n",
      "\t<class 'str'>\n",
      "\tNulls: False\n",
      "\tUnique values: 14\n",
      "\t5 most frequent values:\n",
      "\t\tROUTINE FOOD INSPECTION:\t7071\n",
      "\t\tEMERGENCY RESPONSE:\t1132\n",
      "\t\tNew Business Inspection:\t560\n",
      "\t\tPRE-OPENING FOOD INSPECTION:\t436\n",
      "\t\tADDITIONAL SERVICE PROVIDED:\t259\n",
      "\tMax length: 32\n",
      " 20. DA8509482\n",
      "\t<class 'str'>\n",
      "\tNulls: False\n",
      "\tUnique values: 6724\n",
      "\t5 most frequent values:\n",
      "\t\tDA0059230:\t39\n",
      "\t\tDA0047720:\t36\n",
      "\t\tDA0045676:\t34\n",
      "\t\tDA0045731:\t31\n",
      "\t\tDA0047290:\t29\n",
      "\tMax length: 9\n",
      " 21. 11\n",
      "\t<class 'str'>\n",
      "\tNulls: False\n",
      "\tUnique values: 8\n",
      "\t5 most frequent values:\n",
      "\t\t11:\t8017\n",
      "\t\t00:\t1603\n",
      "\t\t09:\t221\n",
      "\t\t06:\t145\n",
      "\t\t10:\t8\n",
      "\tMax length: 2\n",
      " 22. APPROVED\n",
      "\t<class 'str'>\n",
      "\tNulls: False\n",
      "\tUnique values: 8\n",
      "\t5 most frequent values:\n",
      "\t\tAPPROVED:\t8017\n",
      "\t\tNON-GRADED:\t1603\n",
      "\t\tANNUAL STICKER ISSUED:\t221\n",
      "\t\tUNSATISFACTORY:\t145\n",
      "\t\tANNUAL STICKER NOT ISSUED:\t8\n",
      "\tMax length: 34\n",
      " 23. 03\n",
      "\t<class 'str'>\n",
      "\tNulls: False\n",
      "\tUnique values: 18\n",
      "\t5 most frequent values:\n",
      "\t\t03:\t8200\n",
      "\t\t00:\t1392\n",
      "\t\t05:\t119\n",
      "\t\t22:\t79\n",
      "\t\t18:\t56\n",
      "\tMax length: 2\n",
      " 24. IN COMPLIANCE\n",
      "\t<class 'str'>\n",
      "\tNulls: False\n",
      "\tUnique values: 18\n",
      "\t5 most frequent values:\n",
      "\t\tIN COMPLIANCE:\t8200\n",
      "\t\tNOT APPLICABLE:\t1392\n",
      "\t\tDOWNGRADE:\t119\n",
      "\t\tOUT OF BUSINESS:\t79\n",
      "\t\tTRAINING RECEIVED:\t56\n",
      "\tMax length: 37\n",
      " 25.     34    \n",
      "\t<class 'str'>\n",
      "\tNulls: True\n",
      "\tUnique values: 122\n",
      "\t5 most frequent values:\n",
      "\t\t55:\t3602\n",
      "\t\t00:\t1936\n",
      "\t\t68:\t942\n",
      "\t\t42:\t287\n",
      "\t\t35:\t262\n",
      "\tMax length: 10\n",
      " 26. Food contact surfaces\n",
      "\t<class 'str'>\n",
      "\tNulls: True\n",
      "\tUnique values: 68\n",
      "\t5 most frequent values:\n",
      "\t\tAdditional Comments:\t3606\n",
      "\t\tNo Violations Found:\t1939\n",
      "\t\tDelivered Informational Brochure:\t941\n",
      "\t\tPlumbing: Improperly installed/maintained/supplied:\t290\n",
      "\t\tNon-Food contact surfaces:\t264\n",
      "\tMax length: 50\n",
      " 27. _unnamed\n",
      "\t<class 'NoneType'>\n",
      "\tNulls: True\n",
      "\tValues: \n",
      "\n",
      "Row count: 9999\n"
     ]
    }
   ],
   "source": [
    "!shuf -n 10000 abq-food-inspections-fy2010.csv | csvstat\n"
   ]
  },
  {
   "cell_type": "code",
   "execution_count": 12,
   "metadata": {
    "collapsed": false
   },
   "outputs": [
    {
     "name": "stdout",
     "output_type": "stream",
     "text": [
      "Done.\n",
      "Done.\n"
     ]
    },
    {
     "data": {
      "text/plain": [
       "[]"
      ]
     },
     "execution_count": 12,
     "metadata": {},
     "output_type": "execute_result"
    }
   ],
   "source": [
    "%%sql\n",
    "DROP TABLE IF EXISTS food;\n",
    "CREATE TABLE food (\n",
    "    FACILITY_NAME VARCHAR(77),\n",
    "    FACILITY_KEY INTEGER,\n",
    "    SITE_ADDRESS VARCHAR(35),\n",
    "    CITY VARCHAR(11),\n",
    "    STATE VARCHAR(2),\n",
    "    ZIP VARCHAR(10),\n",
    "    OWNER_KEY INTEGER,\n",
    "    OWNER_NAME VARCHAR(82),\n",
    "    NATURE_OF_BUSINESS VARCHAR(25),\n",
    "    STREET_NUMBER VARCHAR(7),\n",
    "    STREET_NAME VARCHAR(24),\n",
    "    STREET_TYPE VARCHAR(4),\n",
    "    POST_DIRECTIONAL VARCHAR(2),\n",
    "    PHONE VARCHAR(15),\n",
    "    PROGRAM_CATEGORY VARCHAR(4),\n",
    "    PROGRAM_CATEGORY_DESCRIPTION VARCHAR(40),\n",
    "    INSPECTION_DATE TIMESTAMP, \n",
    "    INSPECTION_TYPE VARCHAR(40),\n",
    "    INSPECTION_DESC VARCHAR(32),\n",
    "    SERIAL_NUM VARCHAR(9),\n",
    "    ACTION_CODE VARCHAR(2),\n",
    "    ACTION_DESC VARCHAR(50),\n",
    "    RESULT_CODE VARCHAR(2),\n",
    "    RESULT_DESC VARCHAR(37),\n",
    "    VIOLATION_CODE VARCHAR(10),\n",
    "    VIOLATION_DESC VARCHAR(50),\n",
    "    INSPECTION_MEMO VARCHAR(40)\n",
    "    )"
   ]
  },
  {
   "cell_type": "code",
   "execution_count": 13,
   "metadata": {
    "collapsed": false
   },
   "outputs": [
    {
     "name": "stdout",
     "output_type": "stream",
     "text": [
      "/home/jovyan/work\r\n"
     ]
    }
   ],
   "source": [
    "!pwd"
   ]
  },
  {
   "cell_type": "code",
   "execution_count": 14,
   "metadata": {
    "collapsed": false
   },
   "outputs": [
    {
     "name": "stdout",
     "output_type": "stream",
     "text": [
      "17556 rows affected.\n"
     ]
    },
    {
     "data": {
      "text/plain": [
       "[]"
      ]
     },
     "execution_count": 14,
     "metadata": {},
     "output_type": "execute_result"
    }
   ],
   "source": [
    "%%sql\n",
    "COPY food FROM '/home/jovyan/work/abq-food-inspections-fy2010.csv'\n",
    "CSV\n",
    "HEADER\n",
    "QUOTE '\"'\n",
    "DELIMITER ',';"
   ]
  },
  {
   "cell_type": "code",
   "execution_count": 15,
   "metadata": {
    "collapsed": false
   },
   "outputs": [
    {
     "name": "stdout",
     "output_type": "stream",
     "text": [
      "1 rows affected.\n"
     ]
    },
    {
     "data": {
      "text/html": [
       "<table>\n",
       "    <tr>\n",
       "        <th>count</th>\n",
       "    </tr>\n",
       "    <tr>\n",
       "        <td>17556</td>\n",
       "    </tr>\n",
       "</table>"
      ],
      "text/plain": [
       "[(17556,)]"
      ]
     },
     "execution_count": 15,
     "metadata": {},
     "output_type": "execute_result"
    }
   ],
   "source": [
    "%%sql\n",
    "SELECT COUNT(*) FROM food;"
   ]
  },
  {
   "cell_type": "code",
   "execution_count": 16,
   "metadata": {
    "collapsed": false
   },
   "outputs": [
    {
     "name": "stdout",
     "output_type": "stream",
     "text": [
      "27 rows affected.\n"
     ]
    },
    {
     "data": {
      "text/html": [
       "<table>\n",
       "    <tr>\n",
       "        <th>column_name</th>\n",
       "        <th>data_type</th>\n",
       "        <th>character_maximum_length</th>\n",
       "        <th>is_nullable</th>\n",
       "    </tr>\n",
       "    <tr>\n",
       "        <td>facility_name</td>\n",
       "        <td>character varying</td>\n",
       "        <td>77</td>\n",
       "        <td>YES</td>\n",
       "    </tr>\n",
       "    <tr>\n",
       "        <td>facility_key</td>\n",
       "        <td>integer</td>\n",
       "        <td>None</td>\n",
       "        <td>YES</td>\n",
       "    </tr>\n",
       "    <tr>\n",
       "        <td>site_address</td>\n",
       "        <td>character varying</td>\n",
       "        <td>35</td>\n",
       "        <td>YES</td>\n",
       "    </tr>\n",
       "    <tr>\n",
       "        <td>city</td>\n",
       "        <td>character varying</td>\n",
       "        <td>11</td>\n",
       "        <td>YES</td>\n",
       "    </tr>\n",
       "    <tr>\n",
       "        <td>state</td>\n",
       "        <td>character varying</td>\n",
       "        <td>2</td>\n",
       "        <td>YES</td>\n",
       "    </tr>\n",
       "    <tr>\n",
       "        <td>zip</td>\n",
       "        <td>character varying</td>\n",
       "        <td>10</td>\n",
       "        <td>YES</td>\n",
       "    </tr>\n",
       "    <tr>\n",
       "        <td>owner_key</td>\n",
       "        <td>integer</td>\n",
       "        <td>None</td>\n",
       "        <td>YES</td>\n",
       "    </tr>\n",
       "    <tr>\n",
       "        <td>owner_name</td>\n",
       "        <td>character varying</td>\n",
       "        <td>82</td>\n",
       "        <td>YES</td>\n",
       "    </tr>\n",
       "    <tr>\n",
       "        <td>nature_of_business</td>\n",
       "        <td>character varying</td>\n",
       "        <td>25</td>\n",
       "        <td>YES</td>\n",
       "    </tr>\n",
       "    <tr>\n",
       "        <td>street_number</td>\n",
       "        <td>character varying</td>\n",
       "        <td>7</td>\n",
       "        <td>YES</td>\n",
       "    </tr>\n",
       "    <tr>\n",
       "        <td>street_name</td>\n",
       "        <td>character varying</td>\n",
       "        <td>24</td>\n",
       "        <td>YES</td>\n",
       "    </tr>\n",
       "    <tr>\n",
       "        <td>street_type</td>\n",
       "        <td>character varying</td>\n",
       "        <td>4</td>\n",
       "        <td>YES</td>\n",
       "    </tr>\n",
       "    <tr>\n",
       "        <td>post_directional</td>\n",
       "        <td>character varying</td>\n",
       "        <td>2</td>\n",
       "        <td>YES</td>\n",
       "    </tr>\n",
       "    <tr>\n",
       "        <td>phone</td>\n",
       "        <td>character varying</td>\n",
       "        <td>15</td>\n",
       "        <td>YES</td>\n",
       "    </tr>\n",
       "    <tr>\n",
       "        <td>program_category</td>\n",
       "        <td>character varying</td>\n",
       "        <td>4</td>\n",
       "        <td>YES</td>\n",
       "    </tr>\n",
       "    <tr>\n",
       "        <td>program_category_description</td>\n",
       "        <td>character varying</td>\n",
       "        <td>40</td>\n",
       "        <td>YES</td>\n",
       "    </tr>\n",
       "    <tr>\n",
       "        <td>inspection_date</td>\n",
       "        <td>timestamp without time zone</td>\n",
       "        <td>None</td>\n",
       "        <td>YES</td>\n",
       "    </tr>\n",
       "    <tr>\n",
       "        <td>inspection_type</td>\n",
       "        <td>character varying</td>\n",
       "        <td>40</td>\n",
       "        <td>YES</td>\n",
       "    </tr>\n",
       "    <tr>\n",
       "        <td>inspection_desc</td>\n",
       "        <td>character varying</td>\n",
       "        <td>32</td>\n",
       "        <td>YES</td>\n",
       "    </tr>\n",
       "    <tr>\n",
       "        <td>serial_num</td>\n",
       "        <td>character varying</td>\n",
       "        <td>9</td>\n",
       "        <td>YES</td>\n",
       "    </tr>\n",
       "    <tr>\n",
       "        <td>action_code</td>\n",
       "        <td>character varying</td>\n",
       "        <td>2</td>\n",
       "        <td>YES</td>\n",
       "    </tr>\n",
       "    <tr>\n",
       "        <td>action_desc</td>\n",
       "        <td>character varying</td>\n",
       "        <td>50</td>\n",
       "        <td>YES</td>\n",
       "    </tr>\n",
       "    <tr>\n",
       "        <td>result_code</td>\n",
       "        <td>character varying</td>\n",
       "        <td>2</td>\n",
       "        <td>YES</td>\n",
       "    </tr>\n",
       "    <tr>\n",
       "        <td>result_desc</td>\n",
       "        <td>character varying</td>\n",
       "        <td>37</td>\n",
       "        <td>YES</td>\n",
       "    </tr>\n",
       "    <tr>\n",
       "        <td>violation_code</td>\n",
       "        <td>character varying</td>\n",
       "        <td>10</td>\n",
       "        <td>YES</td>\n",
       "    </tr>\n",
       "    <tr>\n",
       "        <td>violation_desc</td>\n",
       "        <td>character varying</td>\n",
       "        <td>50</td>\n",
       "        <td>YES</td>\n",
       "    </tr>\n",
       "    <tr>\n",
       "        <td>inspection_memo</td>\n",
       "        <td>character varying</td>\n",
       "        <td>40</td>\n",
       "        <td>YES</td>\n",
       "    </tr>\n",
       "</table>"
      ],
      "text/plain": [
       "[('facility_name', 'character varying', 77, 'YES'),\n",
       " ('facility_key', 'integer', None, 'YES'),\n",
       " ('site_address', 'character varying', 35, 'YES'),\n",
       " ('city', 'character varying', 11, 'YES'),\n",
       " ('state', 'character varying', 2, 'YES'),\n",
       " ('zip', 'character varying', 10, 'YES'),\n",
       " ('owner_key', 'integer', None, 'YES'),\n",
       " ('owner_name', 'character varying', 82, 'YES'),\n",
       " ('nature_of_business', 'character varying', 25, 'YES'),\n",
       " ('street_number', 'character varying', 7, 'YES'),\n",
       " ('street_name', 'character varying', 24, 'YES'),\n",
       " ('street_type', 'character varying', 4, 'YES'),\n",
       " ('post_directional', 'character varying', 2, 'YES'),\n",
       " ('phone', 'character varying', 15, 'YES'),\n",
       " ('program_category', 'character varying', 4, 'YES'),\n",
       " ('program_category_description', 'character varying', 40, 'YES'),\n",
       " ('inspection_date', 'timestamp without time zone', None, 'YES'),\n",
       " ('inspection_type', 'character varying', 40, 'YES'),\n",
       " ('inspection_desc', 'character varying', 32, 'YES'),\n",
       " ('serial_num', 'character varying', 9, 'YES'),\n",
       " ('action_code', 'character varying', 2, 'YES'),\n",
       " ('action_desc', 'character varying', 50, 'YES'),\n",
       " ('result_code', 'character varying', 2, 'YES'),\n",
       " ('result_desc', 'character varying', 37, 'YES'),\n",
       " ('violation_code', 'character varying', 10, 'YES'),\n",
       " ('violation_desc', 'character varying', 50, 'YES'),\n",
       " ('inspection_memo', 'character varying', 40, 'YES')]"
      ]
     },
     "execution_count": 16,
     "metadata": {},
     "output_type": "execute_result"
    }
   ],
   "source": [
    "%%sql\n",
    "SELECT column_name, data_type, character_maximum_length, is_nullable\n",
    "FROM INFORMATION_SCHEMA.COLUMNS WHERE table_name = 'food';\n"
   ]
  },
  {
   "cell_type": "markdown",
   "metadata": {},
   "source": [
    "## Problem 3 - explore your data (30 points)\n",
    "\n",
    "Now that the data is loaded, ask some questions of it!  Identify key variables of interest and note their ranges along with other useful descriptive statistics.  Choose and define a few lines of inquiry, execute queries for each, and describe what you find in your result sets.  Use any query techniques we've seen in class, including aggregate functions, transformations, subqueries, or others as appropriate. \n",
    "\n",
    "If you find interesting patterns, adding plots to your exploration would be useful.\n",
    "\n",
    "Insert a combination of code and text/markdown cells here to explore your data."
   ]
  },
  {
   "cell_type": "markdown",
   "metadata": {},
   "source": [
    "### What is the most common type of inspection?"
   ]
  },
  {
   "cell_type": "code",
   "execution_count": 17,
   "metadata": {
    "collapsed": false
   },
   "outputs": [
    {
     "name": "stdout",
     "output_type": "stream",
     "text": [
      "15 rows affected.\n"
     ]
    },
    {
     "data": {
      "text/html": [
       "<table>\n",
       "    <tr>\n",
       "        <th>inspection_desc</th>\n",
       "        <th>count</th>\n",
       "    </tr>\n",
       "    <tr>\n",
       "        <td>ROUTINE FOOD INSPECTION</td>\n",
       "        <td>12439</td>\n",
       "    </tr>\n",
       "    <tr>\n",
       "        <td>EMERGENCY RESPONSE</td>\n",
       "        <td>1987</td>\n",
       "    </tr>\n",
       "    <tr>\n",
       "        <td>New Business Inspection</td>\n",
       "        <td>1005</td>\n",
       "    </tr>\n",
       "    <tr>\n",
       "        <td>PRE-OPENING FOOD INSPECTION</td>\n",
       "        <td>743</td>\n",
       "    </tr>\n",
       "    <tr>\n",
       "        <td>ADDITIONAL SERVICE PROVIDED</td>\n",
       "        <td>439</td>\n",
       "    </tr>\n",
       "    <tr>\n",
       "        <td>MOBILE UNIT FOOD INSPECTION</td>\n",
       "        <td>377</td>\n",
       "    </tr>\n",
       "    <tr>\n",
       "        <td>PHONE CALL</td>\n",
       "        <td>247</td>\n",
       "    </tr>\n",
       "    <tr>\n",
       "        <td>FOOD FOLLOW-UP INSPECTION</td>\n",
       "        <td>143</td>\n",
       "    </tr>\n",
       "    <tr>\n",
       "        <td>FOLLOW-UP DOCUMENTATION RECEIVED</td>\n",
       "        <td>75</td>\n",
       "    </tr>\n",
       "    <tr>\n",
       "        <td>MANAGERIAL ASSISTANCE</td>\n",
       "        <td>54</td>\n",
       "    </tr>\n",
       "    <tr>\n",
       "        <td>IMMINENT HEALTH HAZARD</td>\n",
       "        <td>36</td>\n",
       "    </tr>\n",
       "    <tr>\n",
       "        <td>FIRE CALL</td>\n",
       "        <td>5</td>\n",
       "    </tr>\n",
       "    <tr>\n",
       "        <td>PLAN REVIEW INSPECTION</td>\n",
       "        <td>4</td>\n",
       "    </tr>\n",
       "    <tr>\n",
       "        <td>COMPLAINT FOOD INSPECTION</td>\n",
       "        <td>1</td>\n",
       "    </tr>\n",
       "    <tr>\n",
       "        <td>E-MAIL</td>\n",
       "        <td>1</td>\n",
       "    </tr>\n",
       "</table>"
      ],
      "text/plain": [
       "[('ROUTINE FOOD INSPECTION', 12439),\n",
       " ('EMERGENCY RESPONSE', 1987),\n",
       " ('New Business Inspection', 1005),\n",
       " ('PRE-OPENING FOOD INSPECTION', 743),\n",
       " ('ADDITIONAL SERVICE PROVIDED', 439),\n",
       " ('MOBILE UNIT FOOD INSPECTION', 377),\n",
       " ('PHONE CALL', 247),\n",
       " ('FOOD FOLLOW-UP INSPECTION', 143),\n",
       " ('FOLLOW-UP DOCUMENTATION RECEIVED', 75),\n",
       " ('MANAGERIAL ASSISTANCE', 54),\n",
       " ('IMMINENT HEALTH HAZARD', 36),\n",
       " ('FIRE CALL', 5),\n",
       " ('PLAN REVIEW INSPECTION', 4),\n",
       " ('COMPLAINT FOOD INSPECTION', 1),\n",
       " ('E-MAIL', 1)]"
      ]
     },
     "execution_count": 17,
     "metadata": {},
     "output_type": "execute_result"
    }
   ],
   "source": [
    "%%sql\n",
    "SELECT inspection_desc, COUNT(*) AS count\n",
    "FROM food\n",
    "GROUP BY inspection_desc\n",
    "ORDER BY count DESC"
   ]
  },
  {
   "cell_type": "markdown",
   "metadata": {},
   "source": [
    "### which type of business has the highest mumber of inspection?"
   ]
  },
  {
   "cell_type": "code",
   "execution_count": 18,
   "metadata": {
    "collapsed": false
   },
   "outputs": [
    {
     "name": "stdout",
     "output_type": "stream",
     "text": [
      "25 rows affected.\n"
     ]
    },
    {
     "data": {
      "text/html": [
       "<table>\n",
       "    <tr>\n",
       "        <th>nature_of_business</th>\n",
       "        <th>count</th>\n",
       "    </tr>\n",
       "    <tr>\n",
       "        <td>RESTAURANT</td>\n",
       "        <td>4994</td>\n",
       "    </tr>\n",
       "    <tr>\n",
       "        <td>FOOD SERVICE</td>\n",
       "        <td>691</td>\n",
       "    </tr>\n",
       "    <tr>\n",
       "        <td>GROCERY</td>\n",
       "        <td>618</td>\n",
       "    </tr>\n",
       "    <tr>\n",
       "        <td>BAR/RESTAURANT</td>\n",
       "        <td>508</td>\n",
       "    </tr>\n",
       "    <tr>\n",
       "        <td>APS SCHOOL FOOD SERVICE</td>\n",
       "        <td>470</td>\n",
       "    </tr>\n",
       "    <tr>\n",
       "        <td>None</td>\n",
       "        <td>429</td>\n",
       "    </tr>\n",
       "    <tr>\n",
       "        <td>BKRY/GROC/REST</td>\n",
       "        <td>315</td>\n",
       "    </tr>\n",
       "    <tr>\n",
       "        <td>INST KITCHEN</td>\n",
       "        <td>272</td>\n",
       "    </tr>\n",
       "    <tr>\n",
       "        <td>HOTEL</td>\n",
       "        <td>254</td>\n",
       "    </tr>\n",
       "    <tr>\n",
       "        <td>CHILD CARE</td>\n",
       "        <td>251</td>\n",
       "    </tr>\n",
       "    <tr>\n",
       "        <td>APS SCHOOL FOODSERVICE</td>\n",
       "        <td>246</td>\n",
       "    </tr>\n",
       "    <tr>\n",
       "        <td>GAS STATION</td>\n",
       "        <td>204</td>\n",
       "    </tr>\n",
       "    <tr>\n",
       "        <td>RETAIL</td>\n",
       "        <td>184</td>\n",
       "    </tr>\n",
       "    <tr>\n",
       "        <td>RETAILER</td>\n",
       "        <td>174</td>\n",
       "    </tr>\n",
       "    <tr>\n",
       "        <td>CONVIENENCE STORE</td>\n",
       "        <td>155</td>\n",
       "    </tr>\n",
       "    <tr>\n",
       "        <td>PROCESSOR</td>\n",
       "        <td>146</td>\n",
       "    </tr>\n",
       "    <tr>\n",
       "        <td>GROCERY STORE</td>\n",
       "        <td>146</td>\n",
       "    </tr>\n",
       "    <tr>\n",
       "        <td>FAST FOOD</td>\n",
       "        <td>137</td>\n",
       "    </tr>\n",
       "    <tr>\n",
       "        <td>MEAT MARKET</td>\n",
       "        <td>135</td>\n",
       "    </tr>\n",
       "    <tr>\n",
       "        <td>BAKERY/DELI/MEAT/RETI</td>\n",
       "        <td>132</td>\n",
       "    </tr>\n",
       "    <tr>\n",
       "        <td>BAR</td>\n",
       "        <td>129</td>\n",
       "    </tr>\n",
       "    <tr>\n",
       "        <td>BAKERY</td>\n",
       "        <td>128</td>\n",
       "    </tr>\n",
       "    <tr>\n",
       "        <td>RETAIL SALES</td>\n",
       "        <td>125</td>\n",
       "    </tr>\n",
       "    <tr>\n",
       "        <td>SCHOOL</td>\n",
       "        <td>116</td>\n",
       "    </tr>\n",
       "    <tr>\n",
       "        <td>CHILDCARE</td>\n",
       "        <td>90</td>\n",
       "    </tr>\n",
       "</table>"
      ],
      "text/plain": [
       "[('RESTAURANT', 4994),\n",
       " ('FOOD SERVICE', 691),\n",
       " ('GROCERY', 618),\n",
       " ('BAR/RESTAURANT', 508),\n",
       " ('APS SCHOOL FOOD SERVICE', 470),\n",
       " (None, 429),\n",
       " ('BKRY/GROC/REST', 315),\n",
       " ('INST KITCHEN', 272),\n",
       " ('HOTEL', 254),\n",
       " ('CHILD CARE', 251),\n",
       " ('APS SCHOOL FOODSERVICE', 246),\n",
       " ('GAS STATION', 204),\n",
       " ('RETAIL', 184),\n",
       " ('RETAILER', 174),\n",
       " ('CONVIENENCE STORE', 155),\n",
       " ('PROCESSOR', 146),\n",
       " ('GROCERY STORE', 146),\n",
       " ('FAST FOOD', 137),\n",
       " ('MEAT MARKET', 135),\n",
       " ('BAKERY/DELI/MEAT/RETI', 132),\n",
       " ('BAR', 129),\n",
       " ('BAKERY', 128),\n",
       " ('RETAIL SALES', 125),\n",
       " ('SCHOOL', 116),\n",
       " ('CHILDCARE', 90)]"
      ]
     },
     "execution_count": 18,
     "metadata": {},
     "output_type": "execute_result"
    }
   ],
   "source": [
    "%%sql\n",
    "SELECT nature_of_business , COUNT(*) AS count\n",
    "FROM food\n",
    "GROUP BY nature_of_business\n",
    "ORDER BY count DESC\n",
    "LIMIT 25;"
   ]
  },
  {
   "cell_type": "markdown",
   "metadata": {},
   "source": [
    "Obviously, restaurant is the most common type of business that has the most inspections. 4994 of the inspections are done in the restaurant. The second business type that has the most inspections is food services, it has 691 inspections. The third one is grocery, which has 618 inspections. \n",
    "\n",
    "Next, I want to look into the restaurant data, which  restaurant has the most number of inspections?"
   ]
  },
  {
   "cell_type": "code",
   "execution_count": 19,
   "metadata": {
    "collapsed": false
   },
   "outputs": [
    {
     "name": "stdout",
     "output_type": "stream",
     "text": [
      "10 rows affected.\n"
     ]
    },
    {
     "data": {
      "text/html": [
       "<table>\n",
       "    <tr>\n",
       "        <th>facility_name</th>\n",
       "        <th>count</th>\n",
       "    </tr>\n",
       "    <tr>\n",
       "        <td>SMITHS FOOD AND DRUG CENTERS INC</td>\n",
       "        <td>154</td>\n",
       "    </tr>\n",
       "    <tr>\n",
       "        <td>ISOTOPES PARK - OVATIONS</td>\n",
       "        <td>93</td>\n",
       "    </tr>\n",
       "    <tr>\n",
       "        <td>PER EHSII CECELIA GARCIA OOB LA REYNA DEL SUR</td>\n",
       "        <td>85</td>\n",
       "    </tr>\n",
       "    <tr>\n",
       "        <td>ISLETA AMPHITHEATER</td>\n",
       "        <td>68</td>\n",
       "    </tr>\n",
       "    <tr>\n",
       "        <td>ECHO INC</td>\n",
       "        <td>68</td>\n",
       "    </tr>\n",
       "    <tr>\n",
       "        <td>DIONS PIZZA</td>\n",
       "        <td>67</td>\n",
       "    </tr>\n",
       "    <tr>\n",
       "        <td>CIRCLE K 8936</td>\n",
       "        <td>66</td>\n",
       "    </tr>\n",
       "    <tr>\n",
       "        <td>OOB CALIFORNIA DEL NORTE ICE CREAM LLC</td>\n",
       "        <td>65</td>\n",
       "    </tr>\n",
       "    <tr>\n",
       "        <td>TALIN MARKET WORLD FOOD FARE</td>\n",
       "        <td>64</td>\n",
       "    </tr>\n",
       "    <tr>\n",
       "        <td>OOB MOM THAI FOOD</td>\n",
       "        <td>61</td>\n",
       "    </tr>\n",
       "</table>"
      ],
      "text/plain": [
       "[('SMITHS FOOD AND DRUG CENTERS INC', 154),\n",
       " ('ISOTOPES PARK - OVATIONS', 93),\n",
       " ('PER EHSII CECELIA GARCIA OOB LA REYNA DEL SUR', 85),\n",
       " ('ISLETA AMPHITHEATER', 68),\n",
       " ('ECHO INC', 68),\n",
       " ('DIONS PIZZA', 67),\n",
       " ('CIRCLE K 8936', 66),\n",
       " ('OOB CALIFORNIA DEL NORTE ICE CREAM LLC', 65),\n",
       " ('TALIN MARKET WORLD FOOD FARE', 64),\n",
       " ('OOB MOM THAI FOOD', 61)]"
      ]
     },
     "execution_count": 19,
     "metadata": {},
     "output_type": "execute_result"
    }
   ],
   "source": [
    "%%sql\n",
    "SELECT facility_name, COUNT(*) AS count\n",
    "    FROM food\n",
    "    GROUP BY facility_name\n",
    "    ORDER BY count DESC\n",
    "    LIMIT 10;"
   ]
  },
  {
   "cell_type": "markdown",
   "metadata": {},
   "source": [
    "Within the restaurant business type, SMITHS FOOD AND DRUG CENTERS INC is the restaurant which has the highest nymber of inspections, it has 154 inspections. Then, out of 154 inspections, I am curious about what are those inspections, in other words, what is the causes for those 154 inspections."
   ]
  },
  {
   "cell_type": "code",
   "execution_count": 20,
   "metadata": {
    "collapsed": false
   },
   "outputs": [
    {
     "name": "stdout",
     "output_type": "stream",
     "text": [
      "4 rows affected.\n"
     ]
    },
    {
     "data": {
      "text/html": [
       "<table>\n",
       "    <tr>\n",
       "        <th>inspection_desc</th>\n",
       "        <th>count</th>\n",
       "    </tr>\n",
       "    <tr>\n",
       "        <td>ROUTINE FOOD INSPECTION</td>\n",
       "        <td>130</td>\n",
       "    </tr>\n",
       "    <tr>\n",
       "        <td>EMERGENCY RESPONSE</td>\n",
       "        <td>15</td>\n",
       "    </tr>\n",
       "    <tr>\n",
       "        <td>PHONE CALL</td>\n",
       "        <td>7</td>\n",
       "    </tr>\n",
       "    <tr>\n",
       "        <td>ADDITIONAL SERVICE PROVIDED</td>\n",
       "        <td>2</td>\n",
       "    </tr>\n",
       "</table>"
      ],
      "text/plain": [
       "[('ROUTINE FOOD INSPECTION', 130),\n",
       " ('EMERGENCY RESPONSE', 15),\n",
       " ('PHONE CALL', 7),\n",
       " ('ADDITIONAL SERVICE PROVIDED', 2)]"
      ]
     },
     "execution_count": 20,
     "metadata": {},
     "output_type": "execute_result"
    }
   ],
   "source": [
    "%%sql\n",
    "SELECT inspection_desc, COUNT(*) AS count\n",
    "FROM food\n",
    "WHERE facility_name IN (\n",
    "    SELECT facility_name\n",
    "    FROM food\n",
    "    GROUP BY facility_name\n",
    "    ORDER BY COUNT(*) DESC\n",
    "    LIMIT 1)\n",
    "GROUP BY inspection_desc\n",
    "ORDER BY count DESC\n",
    "LIMIT 10;"
   ]
  },
  {
   "cell_type": "markdown",
   "metadata": {},
   "source": [
    "Now we know 130 out 154 inspections are due to routine food inspection, 15 of those are due to emergency response, 7 inspections are caused by phone call. \n",
    "\n",
    "Next, not all inspections will have a violation, so what is the actual violation for SMITHS FOOD AND DRUG CENTERS INC?"
   ]
  },
  {
   "cell_type": "code",
   "execution_count": 24,
   "metadata": {
    "collapsed": false
   },
   "outputs": [
    {
     "name": "stdout",
     "output_type": "stream",
     "text": [
      "10 rows affected.\n"
     ]
    },
    {
     "data": {
      "text/html": [
       "<table>\n",
       "    <tr>\n",
       "        <th>violation_desc</th>\n",
       "        <th>count</th>\n",
       "    </tr>\n",
       "    <tr>\n",
       "        <td>Improper sanitizing</td>\n",
       "        <td>5</td>\n",
       "    </tr>\n",
       "    <tr>\n",
       "        <td>Floors, Walls, Ceilings</td>\n",
       "        <td>4</td>\n",
       "    </tr>\n",
       "    <tr>\n",
       "        <td>Plumbing: Improperly installed/maintained/supplied</td>\n",
       "        <td>4</td>\n",
       "    </tr>\n",
       "    <tr>\n",
       "        <td>Hot Holding</td>\n",
       "        <td>4</td>\n",
       "    </tr>\n",
       "    <tr>\n",
       "        <td>Thermometers not provided, not accurate/consp</td>\n",
       "        <td>3</td>\n",
       "    </tr>\n",
       "    <tr>\n",
       "        <td>Food unprotected</td>\n",
       "        <td>2</td>\n",
       "    </tr>\n",
       "    <tr>\n",
       "        <td>Cold Holding</td>\n",
       "        <td>2</td>\n",
       "    </tr>\n",
       "    <tr>\n",
       "        <td>Other Operations - Lighting</td>\n",
       "        <td>2</td>\n",
       "    </tr>\n",
       "    <tr>\n",
       "        <td>Evidence of insects</td>\n",
       "        <td>2</td>\n",
       "    </tr>\n",
       "    <tr>\n",
       "        <td>Cooling, Heating Procedures</td>\n",
       "        <td>1</td>\n",
       "    </tr>\n",
       "</table>"
      ],
      "text/plain": [
       "[('Improper sanitizing', 5),\n",
       " ('Floors, Walls, Ceilings', 4),\n",
       " ('Plumbing: Improperly installed/maintained/supplied', 4),\n",
       " ('Hot Holding', 4),\n",
       " ('Thermometers not provided, not accurate/consp', 3),\n",
       " ('Food unprotected', 2),\n",
       " ('Cold Holding', 2),\n",
       " ('Other Operations - Lighting', 2),\n",
       " ('Evidence of insects', 2),\n",
       " ('Cooling, Heating Procedures', 1)]"
      ]
     },
     "execution_count": 24,
     "metadata": {},
     "output_type": "execute_result"
    }
   ],
   "source": [
    "%%sql\n",
    "SELECT violation_desc, COUNT(*) AS count\n",
    "FROM food\n",
    "WHERE facility_name ='SMITHS FOOD AND DRUG CENTERS INC'\n",
    "and \n",
    "violation_desc not in ('No Violations Found', 'None', 'Additional Comments', 'Delivered Informational Brochure') \n",
    "GROUP BY violation_desc\n",
    "ORDER BY count DESC\n",
    "LIMIT 10\n",
    ";"
   ]
  },
  {
   "cell_type": "markdown",
   "metadata": {},
   "source": [
    "Regardless of the no violation inspection, improper sanitizing, floors walls ceilings, Plumbing: Improperly installed/maintained/supplied seems to be the top three factors to cause a violation.\n",
    "\n",
    "Let's employ visualization tool to observe this trend of violations at SMITHS FOOD AND DRUG CENTERS INC? "
   ]
  },
  {
   "cell_type": "code",
   "execution_count": 25,
   "metadata": {
    "collapsed": false
   },
   "outputs": [
    {
     "data": {
      "text/plain": [
       "<Container object of 10 artists>"
      ]
     },
     "execution_count": 25,
     "metadata": {},
     "output_type": "execute_result"
    },
    {
     "data": {
      "image/png": "[encoded data removed]",
      "text/plain": [
       "<matplotlib.figure.Figure at 0x7f4a5d603ef0>"
      ]
     },
     "metadata": {},
     "output_type": "display_data"
    }
   ],
   "source": [
    "%matplotlib inline\n",
    "result = _\n",
    "result.bar(color='yellow')"
   ]
  },
  {
   "cell_type": "markdown",
   "metadata": {},
   "source": [
    "Now we can conclude what causes the most violatons in SMITHS FOOD AND DRUG CENTERS INC graphically. \n",
    "\n",
    "After the violation is found, what happen next to SMITHS FOOD AND DRUG CENTERS INC, are they downgraded? or anything happened? In other words, what is the result of the violations?"
   ]
  },
  {
   "cell_type": "code",
   "execution_count": 26,
   "metadata": {
    "collapsed": false
   },
   "outputs": [
    {
     "name": "stdout",
     "output_type": "stream",
     "text": [
      "4 rows affected.\n"
     ]
    },
    {
     "data": {
      "text/html": [
       "<table>\n",
       "    <tr>\n",
       "        <th>result_desc</th>\n",
       "        <th>count</th>\n",
       "    </tr>\n",
       "    <tr>\n",
       "        <td>IN COMPLIANCE</td>\n",
       "        <td>130</td>\n",
       "    </tr>\n",
       "    <tr>\n",
       "        <td>NOT APPLICABLE</td>\n",
       "        <td>20</td>\n",
       "    </tr>\n",
       "    <tr>\n",
       "        <td>RECALL VERIFICATION</td>\n",
       "        <td>2</td>\n",
       "    </tr>\n",
       "    <tr>\n",
       "        <td>PHONE CALL</td>\n",
       "        <td>2</td>\n",
       "    </tr>\n",
       "</table>"
      ],
      "text/plain": [
       "[('IN COMPLIANCE', 130),\n",
       " ('NOT APPLICABLE', 20),\n",
       " ('RECALL VERIFICATION', 2),\n",
       " ('PHONE CALL', 2)]"
      ]
     },
     "execution_count": 26,
     "metadata": {},
     "output_type": "execute_result"
    }
   ],
   "source": [
    "%%sql\n",
    "SELECT result_desc, COUNT(*) AS count\n",
    "FROM food\n",
    "WHERE facility_name ='SMITHS FOOD AND DRUG CENTERS INC'\n",
    "GROUP BY result_desc\n",
    "ORDER BY count DESC\n",
    ";"
   ]
  },
  {
   "cell_type": "markdown",
   "metadata": {},
   "source": [
    "130 violations is incompliance, 20 violations is not appliable. "
   ]
  },
  {
   "cell_type": "markdown",
   "metadata": {},
   "source": [
    "### Second, Which month has the highest inspections?"
   ]
  },
  {
   "cell_type": "code",
   "execution_count": 27,
   "metadata": {
    "collapsed": false
   },
   "outputs": [
    {
     "name": "stdout",
     "output_type": "stream",
     "text": [
      "12 rows affected.\n"
     ]
    },
    {
     "data": {
      "text/html": [
       "<table>\n",
       "    <tr>\n",
       "        <th>month</th>\n",
       "        <th>count</th>\n",
       "    </tr>\n",
       "    <tr>\n",
       "        <td>12.0</td>\n",
       "        <td>556</td>\n",
       "    </tr>\n",
       "    <tr>\n",
       "        <td>3.0</td>\n",
       "        <td>535</td>\n",
       "    </tr>\n",
       "    <tr>\n",
       "        <td>4.0</td>\n",
       "        <td>460</td>\n",
       "    </tr>\n",
       "    <tr>\n",
       "        <td>11.0</td>\n",
       "        <td>446</td>\n",
       "    </tr>\n",
       "    <tr>\n",
       "        <td>2.0</td>\n",
       "        <td>445</td>\n",
       "    </tr>\n",
       "    <tr>\n",
       "        <td>9.0</td>\n",
       "        <td>445</td>\n",
       "    </tr>\n",
       "    <tr>\n",
       "        <td>10.0</td>\n",
       "        <td>441</td>\n",
       "    </tr>\n",
       "    <tr>\n",
       "        <td>7.0</td>\n",
       "        <td>438</td>\n",
       "    </tr>\n",
       "    <tr>\n",
       "        <td>8.0</td>\n",
       "        <td>405</td>\n",
       "    </tr>\n",
       "    <tr>\n",
       "        <td>1.0</td>\n",
       "        <td>395</td>\n",
       "    </tr>\n",
       "    <tr>\n",
       "        <td>6.0</td>\n",
       "        <td>361</td>\n",
       "    </tr>\n",
       "    <tr>\n",
       "        <td>5.0</td>\n",
       "        <td>176</td>\n",
       "    </tr>\n",
       "</table>"
      ],
      "text/plain": [
       "[(12.0, 556),\n",
       " (3.0, 535),\n",
       " (4.0, 460),\n",
       " (11.0, 446),\n",
       " (2.0, 445),\n",
       " (9.0, 445),\n",
       " (10.0, 441),\n",
       " (7.0, 438),\n",
       " (8.0, 405),\n",
       " (1.0, 395),\n",
       " (6.0, 361),\n",
       " (5.0, 176)]"
      ]
     },
     "execution_count": 27,
     "metadata": {},
     "output_type": "execute_result"
    }
   ],
   "source": [
    "%%sql\n",
    "Select extract(month from INSPECTION_DATE) as month, count(*)\n",
    "from food\n",
    "Where violation_desc not in ('No Violations Found', 'None', 'Additional Comments', 'Delivered Informational Brochure') \n",
    "Group by month\n",
    "Order by count desc;"
   ]
  },
  {
   "cell_type": "code",
   "execution_count": 28,
   "metadata": {
    "collapsed": false
   },
   "outputs": [
    {
     "data": {
      "text/plain": [
       "<Container object of 12 artists>"
      ]
     },
     "execution_count": 28,
     "metadata": {},
     "output_type": "execute_result"
    },
    {
     "data": {
      "image/png": "[encoded data removed]",
      "text/plain": [
       "<matplotlib.figure.Figure at 0x7f4a8beefc50>"
      ]
     },
     "metadata": {},
     "output_type": "display_data"
    }
   ],
   "source": [
    "result = _\n",
    "result.bar(color='yellow')"
   ]
  },
  {
   "cell_type": "markdown",
   "metadata": {},
   "source": [
    "Visualization helps us to interpret the result clearly that december has the highest number of inspections occured. \n",
    "\n",
    "Let's compare the actual violation numebers between 2009 and 2010, excluding the no violations results. "
   ]
  },
  {
   "cell_type": "code",
   "execution_count": 29,
   "metadata": {
    "collapsed": false
   },
   "outputs": [
    {
     "name": "stdout",
     "output_type": "stream",
     "text": [
      "2 rows affected.\n"
     ]
    },
    {
     "data": {
      "text/html": [
       "<table>\n",
       "    <tr>\n",
       "        <th>year</th>\n",
       "        <th>count</th>\n",
       "    </tr>\n",
       "    <tr>\n",
       "        <td>2009.0</td>\n",
       "        <td>2731</td>\n",
       "    </tr>\n",
       "    <tr>\n",
       "        <td>2010.0</td>\n",
       "        <td>2372</td>\n",
       "    </tr>\n",
       "</table>"
      ],
      "text/plain": [
       "[(2009.0, 2731), (2010.0, 2372)]"
      ]
     },
     "execution_count": 29,
     "metadata": {},
     "output_type": "execute_result"
    }
   ],
   "source": [
    "%%sql\n",
    "Select extract(year from INSPECTION_DATE) as year, count(*)\n",
    "from food\n",
    "Where violation_desc not in ('No Violations Found', 'None', 'Additional Comments', 'Delivered Informational Brochure') \n",
    "Group by year\n",
    "Order by count desc\n",
    "limit 10;"
   ]
  },
  {
   "cell_type": "markdown",
   "metadata": {},
   "source": [
    "## Bonus (10 points)\n",
    "\n",
    "We have seen a few simple techniques for normalizing data in class.  Choose a column or set of columns that might be redundant and normalize them out to another table:\n",
    "\n",
    "* Identify the columns to normalize in the source data table\n",
    "* Create one or more new tables to hold the normalized records\n",
    "* Extract data into the new tables\n",
    "* Re-insert the new foreign key references from the new table into the source table"
   ]
  },
  {
   "cell_type": "code",
   "execution_count": 30,
   "metadata": {
    "collapsed": false
   },
   "outputs": [
    {
     "name": "stdout",
     "output_type": "stream",
     "text": [
      "10 rows affected.\n"
     ]
    },
    {
     "data": {
      "text/html": [
       "<table>\n",
       "    <tr>\n",
       "        <th>facility_name</th>\n",
       "        <th>facility_key</th>\n",
       "    </tr>\n",
       "    <tr>\n",
       "        <td>00BSAY IT WITH CAKE</td>\n",
       "        <td>50534</td>\n",
       "    </tr>\n",
       "    <tr>\n",
       "        <td>2000 VIETNAM RESTAURANT</td>\n",
       "        <td>31468</td>\n",
       "    </tr>\n",
       "    <tr>\n",
       "        <td>328 CHINESE CUISINE</td>\n",
       "        <td>72789</td>\n",
       "    </tr>\n",
       "    <tr>\n",
       "        <td>5 STAR BURGERS</td>\n",
       "        <td>90929</td>\n",
       "    </tr>\n",
       "    <tr>\n",
       "        <td>66 DINER</td>\n",
       "        <td>7820</td>\n",
       "    </tr>\n",
       "    <tr>\n",
       "        <td>7 BAR ELEMENTARY SCHOOL</td>\n",
       "        <td>2207</td>\n",
       "    </tr>\n",
       "    <tr>\n",
       "        <td>7 ELEVEN</td>\n",
       "        <td>21347</td>\n",
       "    </tr>\n",
       "    <tr>\n",
       "        <td>7 ELEVEN 57722</td>\n",
       "        <td>21346</td>\n",
       "    </tr>\n",
       "    <tr>\n",
       "        <td>7 ELEVEN 700</td>\n",
       "        <td>21348</td>\n",
       "    </tr>\n",
       "    <tr>\n",
       "        <td>7 ELEVEN 702</td>\n",
       "        <td>21350</td>\n",
       "    </tr>\n",
       "</table>"
      ],
      "text/plain": [
       "[('00BSAY IT WITH CAKE', 50534),\n",
       " ('2000 VIETNAM RESTAURANT', 31468),\n",
       " ('328 CHINESE CUISINE', 72789),\n",
       " ('5 STAR BURGERS', 90929),\n",
       " ('66 DINER', 7820),\n",
       " ('7 BAR ELEMENTARY SCHOOL', 2207),\n",
       " ('7 ELEVEN', 21347),\n",
       " ('7 ELEVEN 57722', 21346),\n",
       " ('7 ELEVEN 700', 21348),\n",
       " ('7 ELEVEN 702', 21350)]"
      ]
     },
     "execution_count": 30,
     "metadata": {},
     "output_type": "execute_result"
    }
   ],
   "source": [
    "%%sql\n",
    "SELECT DISTINCT facility_name, facility_key\n",
    "FROM food\n",
    "ORDER BY facility_name\n",
    "limit 10;"
   ]
  },
  {
   "cell_type": "code",
   "execution_count": 31,
   "metadata": {
    "collapsed": false
   },
   "outputs": [
    {
     "name": "stdout",
     "output_type": "stream",
     "text": [
      "10 rows affected.\n"
     ]
    },
    {
     "data": {
      "text/html": [
       "<table>\n",
       "    <tr>\n",
       "        <th>owner_name</th>\n",
       "        <th>owner_key</th>\n",
       "    </tr>\n",
       "    <tr>\n",
       "        <td>110 SUNPORT LLC</td>\n",
       "        <td>80806</td>\n",
       "    </tr>\n",
       "    <tr>\n",
       "        <td>1ST CLASS LEARNING CENTER</td>\n",
       "        <td>39984</td>\n",
       "    </tr>\n",
       "    <tr>\n",
       "        <td>2000 VIETMAN RESTAURANT</td>\n",
       "        <td>29294</td>\n",
       "    </tr>\n",
       "    <tr>\n",
       "        <td>21ST CENTURY PUBLIC ACADEMY</td>\n",
       "        <td>65277</td>\n",
       "    </tr>\n",
       "    <tr>\n",
       "        <td>300 CLUB GRILL</td>\n",
       "        <td>80954</td>\n",
       "    </tr>\n",
       "    <tr>\n",
       "        <td>328 CHINESE CUISINE</td>\n",
       "        <td>66644</td>\n",
       "    </tr>\n",
       "    <tr>\n",
       "        <td>3RD ALARM COFFEE</td>\n",
       "        <td>67195</td>\n",
       "    </tr>\n",
       "    <tr>\n",
       "        <td>5 STAR ABQ INC</td>\n",
       "        <td>82383</td>\n",
       "    </tr>\n",
       "    <tr>\n",
       "        <td>6001 INC</td>\n",
       "        <td>15660</td>\n",
       "    </tr>\n",
       "    <tr>\n",
       "        <td>66 DINER</td>\n",
       "        <td>6743</td>\n",
       "    </tr>\n",
       "</table>"
      ],
      "text/plain": [
       "[('110 SUNPORT LLC', 80806),\n",
       " ('1ST CLASS LEARNING CENTER', 39984),\n",
       " ('2000 VIETMAN RESTAURANT', 29294),\n",
       " ('21ST CENTURY PUBLIC ACADEMY', 65277),\n",
       " ('300 CLUB GRILL', 80954),\n",
       " ('328 CHINESE CUISINE', 66644),\n",
       " ('3RD ALARM COFFEE', 67195),\n",
       " ('5 STAR ABQ INC', 82383),\n",
       " ('6001 INC', 15660),\n",
       " ('66 DINER', 6743)]"
      ]
     },
     "execution_count": 31,
     "metadata": {},
     "output_type": "execute_result"
    }
   ],
   "source": [
    "%%sql\n",
    "SELECT DISTINCT owner_name, owner_key\n",
    "FROM food\n",
    "ORDER BY owner_name\n",
    "limit 10;"
   ]
  },
  {
   "cell_type": "code",
   "execution_count": 32,
   "metadata": {
    "collapsed": false
   },
   "outputs": [
    {
     "name": "stdout",
     "output_type": "stream",
     "text": [
      "10 rows affected.\n"
     ]
    },
    {
     "data": {
      "text/html": [
       "<table>\n",
       "    <tr>\n",
       "        <th>restaurant_name</th>\n",
       "        <th>restaurant_id</th>\n",
       "    </tr>\n",
       "    <tr>\n",
       "        <td>OOB SPECIALTY HOSPITAL OF ALBUQUER</td>\n",
       "        <td>91957</td>\n",
       "    </tr>\n",
       "    <tr>\n",
       "        <td>QUIZNOS SUB 12316</td>\n",
       "        <td>82796</td>\n",
       "    </tr>\n",
       "    <tr>\n",
       "        <td>QUALITY INN UNIVERSITY</td>\n",
       "        <td>92080</td>\n",
       "    </tr>\n",
       "    <tr>\n",
       "        <td>OOB WEENIE WAGON</td>\n",
       "        <td>85431</td>\n",
       "    </tr>\n",
       "    <tr>\n",
       "        <td>SUSHI GEN</td>\n",
       "        <td>54063</td>\n",
       "    </tr>\n",
       "    <tr>\n",
       "        <td>FEDERICO SR</td>\n",
       "        <td>77232</td>\n",
       "    </tr>\n",
       "    <tr>\n",
       "        <td>SMITHS 439</td>\n",
       "        <td>4291</td>\n",
       "    </tr>\n",
       "    <tr>\n",
       "        <td>SB RESTAURANT CO</td>\n",
       "        <td>61877</td>\n",
       "    </tr>\n",
       "    <tr>\n",
       "        <td>DUKE CITY AQUATICS FOUNDATION</td>\n",
       "        <td>79374</td>\n",
       "    </tr>\n",
       "    <tr>\n",
       "        <td>IL VICINO HEIGHTS</td>\n",
       "        <td>29317</td>\n",
       "    </tr>\n",
       "</table>"
      ],
      "text/plain": [
       "[('OOB SPECIALTY HOSPITAL OF ALBUQUER', 91957),\n",
       " ('QUIZNOS SUB 12316', 82796),\n",
       " ('QUALITY INN UNIVERSITY', 92080),\n",
       " ('OOB WEENIE WAGON', 85431),\n",
       " ('SUSHI GEN', 54063),\n",
       " ('FEDERICO SR', 77232),\n",
       " ('SMITHS 439', 4291),\n",
       " ('SB RESTAURANT CO', 61877),\n",
       " ('DUKE CITY AQUATICS FOUNDATION', 79374),\n",
       " ('IL VICINO HEIGHTS', 29317)]"
      ]
     },
     "execution_count": 32,
     "metadata": {},
     "output_type": "execute_result"
    }
   ],
   "source": [
    "%%sql\n",
    "SELECT restaurant_name, restaurant_id\n",
    "FROM (\n",
    "    SELECT DISTINCT facility_name as restaurant_name, facility_key AS restaurant_id \n",
    "    FROM food\n",
    "    \n",
    "    UNION\n",
    "    \n",
    "    SELECT DISTINCT owner_name as restaurant_name, owner_key AS restaurant_id \n",
    "    FROM food\n",
    "    ) AS d\n",
    "LIMIT 10;"
   ]
  },
  {
   "cell_type": "code",
   "execution_count": 33,
   "metadata": {
    "collapsed": false
   },
   "outputs": [
    {
     "name": "stdout",
     "output_type": "stream",
     "text": [
      "Done.\n"
     ]
    },
    {
     "data": {
      "text/plain": [
       "[]"
      ]
     },
     "execution_count": 33,
     "metadata": {},
     "output_type": "execute_result"
    }
   ],
   "source": [
    "%%sql\n",
    "ALTER TABLE food\n",
    "ADD COLUMN facility_nid INTEGER;"
   ]
  },
  {
   "cell_type": "code",
   "execution_count": 34,
   "metadata": {
    "collapsed": false
   },
   "outputs": [
    {
     "name": "stdout",
     "output_type": "stream",
     "text": [
      "Done.\n",
      "Done.\n"
     ]
    },
    {
     "data": {
      "text/plain": [
       "[]"
      ]
     },
     "execution_count": 34,
     "metadata": {},
     "output_type": "execute_result"
    }
   ],
   "source": [
    "%%sql\n",
    "DROP TABLE IF EXISTS names;\n",
    "CREATE TABLE names(\n",
    "    id SERIAL,\n",
    "    name VARCHAR(164),\n",
    "    restaurant_id INTEGER\n",
    ");"
   ]
  },
  {
   "cell_type": "code",
   "execution_count": 35,
   "metadata": {
    "collapsed": false
   },
   "outputs": [
    {
     "name": "stdout",
     "output_type": "stream",
     "text": [
      "4727 rows affected.\n"
     ]
    },
    {
     "data": {
      "text/plain": [
       "[]"
      ]
     },
     "execution_count": 35,
     "metadata": {},
     "output_type": "execute_result"
    }
   ],
   "source": [
    "%%sql\n",
    "INSERT INTO names (name, restaurant_id)\n",
    "SELECT restaurant_name, restaurant_id FROM (\n",
    "   SELECT DISTINCT facility_name as restaurant_name, facility_key AS restaurant_id \n",
    "   FROM food\n",
    "    \n",
    "    UNION\n",
    "    \n",
    "    SELECT DISTINCT owner_name as restaurant_name, owner_key AS restaurant_id \n",
    "    FROM food\n",
    ") AS d;"
   ]
  },
  {
   "cell_type": "code",
   "execution_count": 36,
   "metadata": {
    "collapsed": false
   },
   "outputs": [
    {
     "name": "stdout",
     "output_type": "stream",
     "text": [
      "Done.\n"
     ]
    },
    {
     "data": {
      "text/plain": [
       "[]"
      ]
     },
     "execution_count": 36,
     "metadata": {},
     "output_type": "execute_result"
    }
   ],
   "source": [
    "%%sql\n",
    "ALTER TABLE food \n",
    "ADD COLUMN facility_newid INTEGER;"
   ]
  },
  {
   "cell_type": "code",
   "execution_count": 37,
   "metadata": {
    "collapsed": false
   },
   "outputs": [
    {
     "name": "stdout",
     "output_type": "stream",
     "text": [
      "17556 rows affected.\n"
     ]
    },
    {
     "data": {
      "text/plain": [
       "[]"
      ]
     },
     "execution_count": 37,
     "metadata": {},
     "output_type": "execute_result"
    }
   ],
   "source": [
    "%%sql\n",
    "UPDATE food as r\n",
    "SET facility_newid = n.id\n",
    "FROM names as n\n",
    "WHERE r.facility_name = n.name;"
   ]
  },
  {
   "cell_type": "code",
   "execution_count": 38,
   "metadata": {
    "collapsed": false
   },
   "outputs": [
    {
     "name": "stdout",
     "output_type": "stream",
     "text": [
      "Done.\n"
     ]
    },
    {
     "data": {
      "text/plain": [
       "[]"
      ]
     },
     "execution_count": 38,
     "metadata": {},
     "output_type": "execute_result"
    }
   ],
   "source": [
    "%%sql\n",
    "ALTER TABLE food\n",
    "ADD COLUMN owner_newid INTEGER;\n"
   ]
  },
  {
   "cell_type": "code",
   "execution_count": 39,
   "metadata": {
    "collapsed": false
   },
   "outputs": [
    {
     "name": "stdout",
     "output_type": "stream",
     "text": [
      "17556 rows affected.\n"
     ]
    },
    {
     "data": {
      "text/plain": [
       "[]"
      ]
     },
     "execution_count": 39,
     "metadata": {},
     "output_type": "execute_result"
    }
   ],
   "source": [
    "%%sql\n",
    "UPDATE food as r\n",
    "SET owner_newid = n.id\n",
    "FROM names as n\n",
    "WHERE r.owner_name = n.name;"
   ]
  },
  {
   "cell_type": "code",
   "execution_count": 40,
   "metadata": {
    "collapsed": false
   },
   "outputs": [
    {
     "name": "stdout",
     "output_type": "stream",
     "text": [
      "10 rows affected.\n"
     ]
    },
    {
     "data": {
      "text/html": [
       "<table>\n",
       "    <tr>\n",
       "        <th>facility_name</th>\n",
       "        <th>owner_name</th>\n",
       "        <th>facility_newid</th>\n",
       "        <th>owner_newid</th>\n",
       "    </tr>\n",
       "    <tr>\n",
       "        <td>OOB ALPHA CHI OMEGA</td>\n",
       "        <td>ALPHA CHI OMEGA</td>\n",
       "        <td>3684</td>\n",
       "        <td>432</td>\n",
       "    </tr>\n",
       "    <tr>\n",
       "        <td>BOYD COFFEE CO</td>\n",
       "        <td>BOYD COFFEE CO</td>\n",
       "        <td>3614</td>\n",
       "        <td>3614</td>\n",
       "    </tr>\n",
       "    <tr>\n",
       "        <td>OOB SUPER SUPPERS</td>\n",
       "        <td>SUPER SUPPERS ABQ WESTSIDE</td>\n",
       "        <td>3698</td>\n",
       "        <td>1932</td>\n",
       "    </tr>\n",
       "    <tr>\n",
       "        <td>SUBWAY</td>\n",
       "        <td>WIGH LLC</td>\n",
       "        <td>162</td>\n",
       "        <td>350</td>\n",
       "    </tr>\n",
       "    <tr>\n",
       "        <td>OOB WENDYS 11</td>\n",
       "        <td>DOUBLE CHEESE CORP</td>\n",
       "        <td>2115</td>\n",
       "        <td>3222</td>\n",
       "    </tr>\n",
       "    <tr>\n",
       "        <td>TIMES SQUARE DELI MART</td>\n",
       "        <td>KAYED LLC</td>\n",
       "        <td>2946</td>\n",
       "        <td>4467</td>\n",
       "    </tr>\n",
       "    <tr>\n",
       "        <td>OOB BROADWAY CHEVRON</td>\n",
       "        <td>EVER READY OIL CO INC</td>\n",
       "        <td>926</td>\n",
       "        <td>1168</td>\n",
       "    </tr>\n",
       "    <tr>\n",
       "        <td>SUBWAY 36875</td>\n",
       "        <td>BERMUDEZ SHORTS INC</td>\n",
       "        <td>501</td>\n",
       "        <td>3560</td>\n",
       "    </tr>\n",
       "    <tr>\n",
       "        <td>ANDALUZ RESTAURANT KITCHEN</td>\n",
       "        <td>GEMSTONE LA POSADA LLC</td>\n",
       "        <td>4068</td>\n",
       "        <td>3316</td>\n",
       "    </tr>\n",
       "    <tr>\n",
       "        <td>PANGAEA CINEMA LLC</td>\n",
       "        <td>PANGAEA CINEMA LLC</td>\n",
       "        <td>2665</td>\n",
       "        <td>2665</td>\n",
       "    </tr>\n",
       "</table>"
      ],
      "text/plain": [
       "[('OOB ALPHA CHI OMEGA', 'ALPHA CHI OMEGA', 3684, 432),\n",
       " ('BOYD COFFEE CO', 'BOYD COFFEE CO', 3614, 3614),\n",
       " ('OOB SUPER SUPPERS', 'SUPER SUPPERS ABQ WESTSIDE', 3698, 1932),\n",
       " ('SUBWAY', 'WIGH LLC', 162, 350),\n",
       " ('OOB WENDYS 11', 'DOUBLE CHEESE CORP', 2115, 3222),\n",
       " ('TIMES SQUARE DELI MART', 'KAYED LLC', 2946, 4467),\n",
       " ('OOB BROADWAY CHEVRON', 'EVER READY OIL CO INC', 926, 1168),\n",
       " ('SUBWAY 36875', 'BERMUDEZ SHORTS INC', 501, 3560),\n",
       " ('ANDALUZ RESTAURANT KITCHEN', 'GEMSTONE LA POSADA LLC', 4068, 3316),\n",
       " ('PANGAEA CINEMA LLC', 'PANGAEA CINEMA LLC', 2665, 2665)]"
      ]
     },
     "execution_count": 40,
     "metadata": {},
     "output_type": "execute_result"
    }
   ],
   "source": [
    "%%sql\n",
    "select distinct facility_name,owner_name, facility_newid, owner_newid \n",
    "from food \n",
    "limit 10;"
   ]
  },
  {
   "cell_type": "markdown",
   "metadata": {
    "collapsed": true
   },
   "source": [
    "### THE END"
   ]
  }
 ],
 "metadata": {
  "anaconda-cloud": {},
  "kernelspec": {
   "display_name": "Python 3",
   "language": "python",
   "name": "python3"
  },
  "language_info": {
   "codemirror_mode": {
    "name": "ipython",
    "version": 3
   },
   "file_extension": ".py",
   "mimetype": "text/x-python",
   "name": "python",
   "nbconvert_exporter": "python",
   "pygments_lexer": "ipython3",
   "version": "3.5.2"
  }
 },
 "nbformat": 4,
 "nbformat_minor": 1
}
